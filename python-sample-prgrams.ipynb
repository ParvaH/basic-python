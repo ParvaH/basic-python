{
  "nbformat": 4,
  "nbformat_minor": 0,
  "metadata": {
    "colab": {
      "name": "PSP_MainNotebook.ipynb",
      "provenance": []
    },
    "kernelspec": {
      "name": "python3",
      "display_name": "Python 3"
    }
  },
  "cells": [
    {
      "cell_type": "markdown",
      "metadata": {
        "id": "3uk7OquW3OJg"
      },
      "source": [
        "Program: 1 WAP that reads and prints a message if it is  positive"
      ]
    },
    {
      "cell_type": "code",
      "metadata": {
        "id": "e6cQ86_C3LPZ",
        "colab": {
          "base_uri": "https://localhost:8080/"
        },
        "outputId": "88928daa-e0ab-4537-82ac-80ce3e2ee7b3"
      },
      "source": [
        "#Program using if statement for positive number\n",
        "\n",
        "num  = int(input(\"Enter a number: \"))\n",
        "if(num >= 0):\n",
        "  print(num, \"is a positive number\")"
      ],
      "execution_count": null,
      "outputs": [
        {
          "output_type": "stream",
          "text": [
            "Enter a number: -96\n"
          ],
          "name": "stdout"
        }
      ]
    },
    {
      "cell_type": "code",
      "metadata": {
        "id": "jeTwNliB4lK8"
      },
      "source": [
        "ge"
      ],
      "execution_count": null,
      "outputs": []
    },
    {
      "cell_type": "markdown",
      "metadata": {
        "id": "3wPqx_od4iMU"
      },
      "source": [
        "Write a program to read luggage weight and charge the tax 4000 rupees if it exceeds 35kg. Display 4000 rupees will be extra"
      ]
    },
    {
      "cell_type": "code",
      "metadata": {
        "id": "5K8PD2s04OfY",
        "colab": {
          "base_uri": "https://localhost:8080/"
        },
        "outputId": "fbc488a1-194d-4af5-bd5e-779f09a7add7"
      },
      "source": [
        "#Program to get luggage wt and print extra charge if it exceeds 35kg\n",
        "wt = float(input(\"Please enter luggage weight in Kg: \"))\n",
        "if(wt>35):\n",
        "  print(\"Rs 4000 will be extra\")"
      ],
      "execution_count": null,
      "outputs": [
        {
          "output_type": "stream",
          "text": [
            "Please enter luggage weight in Kg: 35\n"
          ],
          "name": "stdout"
        }
      ]
    },
    {
      "cell_type": "markdown",
      "metadata": {
        "id": "EpFbtKvk56Mh"
      },
      "source": [
        "Program3: Write a program to find the given number is even or odd. Take input from the user"
      ]
    },
    {
      "cell_type": "code",
      "metadata": {
        "id": "sZXcsjKY55gz",
        "colab": {
          "base_uri": "https://localhost:8080/"
        },
        "outputId": "1bb9687b-fd15-46d8-b1db-6b2df823ac5f"
      },
      "source": [
        "# Even or odd\n",
        "n = int(input(\"Entar a number: \"))\n",
        "if(n%2==0):\n",
        "  print(\"number is even\")\n",
        "else:\n",
        "  print(\"number is odd\")"
      ],
      "execution_count": null,
      "outputs": [
        {
          "output_type": "stream",
          "text": [
            "Entar a number: 5\n",
            "number is odd\n"
          ],
          "name": "stdout"
        }
      ]
    },
    {
      "cell_type": "markdown",
      "metadata": {
        "id": "8BEZhXN49Xfv"
      },
      "source": [
        "Program 4: Write a program to find greatest between two numbers\n"
      ]
    },
    {
      "cell_type": "code",
      "metadata": {
        "id": "RNUfeKlX9oP4",
        "colab": {
          "base_uri": "https://localhost:8080/"
        },
        "outputId": "b4795431-8fa2-4788-be8b-7b46ed684508"
      },
      "source": [
        "n1 = int(input(\"Enter first number: \"))\n",
        "n2 = int(input(\"Enter second number: \"))\n",
        "l = [n1,n2]\n",
        "max_nums = max(l)\n",
        "print(\"Greatest among the two numbers is :\", max_nums)"
      ],
      "execution_count": null,
      "outputs": [
        {
          "output_type": "stream",
          "text": [
            "Enter first number: 5\n",
            "Enter second number: 6\n",
            "Greatest among the two numbers is : 6\n"
          ],
          "name": "stdout"
        }
      ]
    },
    {
      "cell_type": "markdown",
      "metadata": {
        "id": "bpRek3oH-O_C"
      },
      "source": [
        "Test if given string is palindrome or not\n"
      ]
    },
    {
      "cell_type": "code",
      "metadata": {
        "id": "HDLgLmXj-S-L",
        "colab": {
          "base_uri": "https://localhost:8080/"
        },
        "outputId": "2b0b1da4-40c0-4e61-9311-b9b3bd601593"
      },
      "source": [
        "s = input(\"Enter a string: \")\n",
        "l_s =list(s)\n",
        "if (l_s[::-1]== l_s):\n",
        "  print(\"Palindrome\")\n",
        "else:\n",
        "  print(\"not palindrome\")"
      ],
      "execution_count": null,
      "outputs": [
        {
          "output_type": "stream",
          "text": [
            "Enter a string: klljkh\n",
            "not palindrome\n"
          ],
          "name": "stdout"
        }
      ]
    },
    {
      "cell_type": "markdown",
      "metadata": {
        "id": "r23cukuiCCCi"
      },
      "source": [
        ""
      ]
    },
    {
      "cell_type": "code",
      "metadata": {
        "id": "rhqTLFQFDZKS",
        "colab": {
          "base_uri": "https://localhost:8080/"
        },
        "outputId": "b1c1e218-b67d-4000-ce4f-9371e83757a5"
      },
      "source": [
        "print(\"parvathy\"[::-1])"
      ],
      "execution_count": null,
      "outputs": [
        {
          "output_type": "stream",
          "text": [
            "yhtavrap\n"
          ],
          "name": "stdout"
        }
      ]
    },
    {
      "cell_type": "markdown",
      "metadata": {
        "id": "bpRweMiCDnBv"
      },
      "source": [
        "write a program with a 4 digit number is palinsdrome or not"
      ]
    },
    {
      "cell_type": "code",
      "metadata": {
        "id": "E9lo6OrEDwvC"
      },
      "source": [
        "n = "
      ],
      "execution_count": null,
      "outputs": []
    },
    {
      "cell_type": "markdown",
      "metadata": {
        "id": "AvSMVb6VD_hs"
      },
      "source": [
        "Problem 6: If the cost price of an item is input through the jey board, write  a program to determine whether the seller has made a profit or incurred the loss.Also determine how uch profit he incurreed"
      ]
    },
    {
      "cell_type": "code",
      "metadata": {
        "id": "u5oi3hgaEXih",
        "colab": {
          "base_uri": "https://localhost:8080/"
        },
        "outputId": "c1ce9a07-575b-46fb-ae46-b42a9ee1a768"
      },
      "source": [
        "cost_price = float(input(\"Enter cost price:\"))\n",
        "selling_price = float(input(\"Enter selling price:\"))\n",
        "if selling_price<cost_price:\n",
        "  print(\"Loss\")\n",
        "else:\n",
        "  profit = (selling_price - cost_price)/cost_price\n",
        "  print(\"Profit is:\",profit,\"%\")"
      ],
      "execution_count": null,
      "outputs": [
        {
          "output_type": "stream",
          "text": [
            "Enter cost price:50\n",
            "Enter selling price:75\n",
            "Profit is: 0.5 %\n"
          ],
          "name": "stdout"
        }
      ]
    },
    {
      "cell_type": "markdown",
      "metadata": {
        "id": "GmGVNauaJ7Y7"
      },
      "source": [
        "Problem 7: Write a program to prompt for a score 0.0 to 1. If the score isout of range print wrong input. If the score is >0.9 it is 'A'.\n",
        "if 0.8 to 0.9, it is grade 'B'\n",
        "if 0.7 to 0.8 grade 'C'\n",
        "if 0.6 to 0.7 it is grade 'D'\n",
        "if less than 0.6 grade id 'E'"
      ]
    },
    {
      "cell_type": "code",
      "metadata": {
        "id": "xZPftCptKRbg",
        "colab": {
          "base_uri": "https://localhost:8080/"
        },
        "outputId": "2c538c8e-1c7f-41b5-8213-41d4a5aa06a5"
      },
      "source": [
        "score = float(input(\"Please enter score from 0.0 to 1: \"))\n",
        "if (score < 0 or score > 1):\n",
        "  print(\"Score is out of range\")\n",
        "elif (score >=0.9):\n",
        "  print(\"Grade A\")\n",
        "elif score>=0.8 :\n",
        "  print(\"Grade B\")\n",
        "elif score>=0.7:\n",
        "  print(\"Grade C\")\n",
        "elif score>=0.6:\n",
        "  print(\"Grade D\")\n",
        "else:\n",
        "  print(\"Grade E\")\n"
      ],
      "execution_count": null,
      "outputs": [
        {
          "output_type": "stream",
          "text": [
            "Please enter score from 0.0 to 1: 0.3\n",
            "Grade E\n"
          ],
          "name": "stdout"
        }
      ]
    },
    {
      "cell_type": "markdown",
      "metadata": {
        "id": "DEXk0pl-OIW8"
      },
      "source": [
        "Write a program to display the cost each type of fruit:\n",
        "orange - 60\n",
        "apple - 200\n",
        "banana - 50\n",
        "cherries - 300\n",
        "other than these out of stock"
      ]
    },
    {
      "cell_type": "code",
      "metadata": {
        "id": "KCwEGzpsOYv7",
        "colab": {
          "base_uri": "https://localhost:8080/"
        },
        "outputId": "5f54a34d-16c6-4cd9-c791-46387489c443"
      },
      "source": [
        "fruits = {'orange':60,'apple':200,'banana':50,'chrries':300}\n",
        "for key in fruits.keys():\n",
        "     print(key)\n",
        "fruit = input(\"Enter the name of fruit: \")\n",
        "if fruit in fruits.keys():\n",
        "  print(\"Price of \",fruit,\"is\",fruits[fruit], \"rupees per kilogram\")\n",
        "else:\n",
        "  print(\"Sorry! We are out of stock\")"
      ],
      "execution_count": null,
      "outputs": [
        {
          "output_type": "stream",
          "text": [
            "orange\n",
            "apple\n",
            "banana\n",
            "chrries\n",
            "Enter the name of fruit: orange\n",
            "Price of  orange is 60 rupees per kilogram\n"
          ],
          "name": "stdout"
        }
      ]
    },
    {
      "cell_type": "markdown",
      "metadata": {
        "id": "uwrkwLjHQtxT"
      },
      "source": [
        "problem : write a program to check whether the entered character is lowercase or upper case or special symbols"
      ]
    },
    {
      "cell_type": "code",
      "metadata": {
        "id": "QsZy8nasQ4fa",
        "colab": {
          "base_uri": "https://localhost:8080/"
        },
        "outputId": "d9aded6b-54ee-4773-d1af-b66eb1b41606"
      },
      "source": [
        "letter = input(\"Enter a character: \")\n",
        "if letter.isupper():\n",
        "  print(letter,\"Is an uppercase alphabet\")\n",
        "elif letter.islower():\n",
        "  print(letter,\"Is a lowercase alphabet\")\n",
        "elif letter.isdigit():\n",
        "  print(letter,\"is a digit\")\n",
        "else:\n",
        "  print(letter, \"is special character\")\n"
      ],
      "execution_count": null,
      "outputs": [
        {
          "output_type": "stream",
          "text": [
            "Enter a character: Lokdfafd\n",
            "Lokdfafd is special character\n"
          ],
          "name": "stdout"
        }
      ]
    },
    {
      "cell_type": "markdown",
      "metadata": {
        "id": "zPedMn-kVkEM"
      },
      "source": [
        "Program for quadratic equation.\n",
        "a,b,c co:efficients from user.\n",
        "Calculate roots\n",
        "\n",
        "dis > 0 #roots are real\n",
        "dis == 0 # roots are "
      ]
    },
    {
      "cell_type": "markdown",
      "metadata": {
        "id": "VmiH9NNmWRN1"
      },
      "source": [
        "wap to check if the given year or not"
      ]
    },
    {
      "cell_type": "code",
      "metadata": {
        "id": "O5V2RlHNXmc3",
        "colab": {
          "base_uri": "https://localhost:8080/"
        },
        "outputId": "bf23ce4e-b295-43e1-cb76-5dc34afce2a1"
      },
      "source": [
        "year  = int(input(\"Enter the year: \"))\n",
        "if year%4 ==0:\n",
        "  if year%100 ==0:\n",
        "    if year%400 ==0:\n",
        "      print(year,\"is leap year\")\n",
        "    else :\n",
        "      print(year,\"is not a leap year\")\n",
        "  else :\n",
        "      print(year,\"is a leap year\")\n",
        "\n",
        "else:\n",
        "  print(year,\"is not a leap year\")"
      ],
      "execution_count": null,
      "outputs": [
        {
          "output_type": "stream",
          "text": [
            "Enter the year: 1996\n",
            "1996 is a leap year\n"
          ],
          "name": "stdout"
        }
      ]
    },
    {
      "cell_type": "markdown",
      "metadata": {
        "id": "lxi0jIwPZHrL"
      },
      "source": [
        "Program 15: Gregorian calander: 01/01/1900 is Monday:\n",
        "\n",
        "input is my year , find out the day of 1st January.\n",
        "testcase 1: 2021\n",
        "\n",
        "*  output: Friday\n",
        "*  testcase 2: 1999\n",
        "* output: Friday\n",
        "* testcase 3: 1990\n",
        "* output: Monday"
      ]
    },
    {
      "cell_type": "code",
      "metadata": {
        "id": "MwsgX_ZZaURg"
      },
      "source": [
        "year = int(input(\"Enter year: \"))\n",
        "\n"
      ],
      "execution_count": null,
      "outputs": []
    },
    {
      "cell_type": "markdown",
      "metadata": {
        "id": "fncwGCyRbqno"
      },
      "source": [
        "problem 16: find the number of days in a month. \n",
        "ex: 1,2,3....12. \n",
        "if the input is 2 , you ask him which year it u mean."
      ]
    },
    {
      "cell_type": "code",
      "metadata": {
        "id": "p_eqBSgmbt5Q",
        "colab": {
          "base_uri": "https://localhost:8080/"
        },
        "outputId": "d0442600-c9e0-4d03-c4fe-81fa47118e3f"
      },
      "source": [
        "def isLeap(year):\n",
        "  if year%4 ==0:\n",
        "      if year%100 ==0:\n",
        "          if year%400 ==0:\n",
        "              print(year,\"is leap year\")\n",
        "              return 1\n",
        "          else :\n",
        "              print(year,\"is not a leap year\")\n",
        "              return 0\n",
        "      else :\n",
        "          print(year,\"is a leap year\")\n",
        "          return 1\n",
        "  else:\n",
        "     print(year,\"is not a leap year\")\n",
        "     return 0\n",
        "month = int(input(\"Enter the month: \"))\n",
        "if month == 9 or month == 4 or month == 6 or month == 11:\n",
        "  print(\"Number of days is 30\")\n",
        "elif month ==2:\n",
        "  year = int(input(\"Enter the year: \"))\n",
        "  if isLeap(year):\n",
        "    print(\"number of days is 29\")\n",
        "  else:\n",
        "    print(\"number of days is 28\")\n",
        "\n",
        "else:\n",
        "  print(\"number of days is 30\") \n"
      ],
      "execution_count": null,
      "outputs": [
        {
          "output_type": "stream",
          "text": [
            "Enter the month: 2\n",
            "Enter the year: 1996\n",
            "1996 is a leap year\n",
            "number of days is 29\n"
          ],
          "name": "stdout"
        }
      ]
    },
    {
      "cell_type": "markdown",
      "metadata": {
        "id": "HKqDfy5H2YJl"
      },
      "source": [
        "1.Write a python program to swap two numbers"
      ]
    },
    {
      "cell_type": "code",
      "metadata": {
        "id": "wGNAvP-32M-5",
        "colab": {
          "base_uri": "https://localhost:8080/"
        },
        "outputId": "264d8041-bce9-46ee-9f57-8884829478a1"
      },
      "source": [
        "# Program to swap 2 numbers\n",
        "num1 = float(input(\"Enter first number: \"))\n",
        "print(\"num1 = \",num1)\n",
        "num2 = float(input(\"Enter second number: \"))\n",
        "print(\"num2 = \",num2)\n",
        "num1 = num1 + num2\n",
        "num2 = num1 - num2\n",
        "num1 = num1 - num2\n",
        "print(\"Numbers after swapping --> num1 = \", str(num1) + \", num2 = \",str(num2))\n",
        "\n"
      ],
      "execution_count": null,
      "outputs": [
        {
          "output_type": "stream",
          "text": [
            "Enter first number: 5\n",
            "num1 =  5.0\n",
            "Enter second number: 10\n",
            "num2 =  10.0\n",
            "Numbers after swapping --> num1 =  10.0, num2 =  5.0\n"
          ],
          "name": "stdout"
        }
      ]
    },
    {
      "cell_type": "markdown",
      "metadata": {
        "id": "VT7suId366kY"
      },
      "source": [
        "2.Write a python program to swap two arrays. "
      ]
    },
    {
      "cell_type": "code",
      "metadata": {
        "id": "N9E4V5i24pVb",
        "colab": {
          "base_uri": "https://localhost:8080/"
        },
        "outputId": "dc7fe2e2-c6b3-4a05-d1bb-44fca2029fa6"
      },
      "source": [
        "# Program to swap 2 arrays\n",
        "n1 = int(input(\"Enter number of elements of first array: \"))\n",
        "arr1 = list(map(str,input(\"Enter elements of first array seperated by space: \").strip().split()))[:n1]\n",
        "print(\"arr1 is: \",arr1)\n",
        "n2 = int(input(\"Enter number of elements of second array: \"))\n",
        "arr2 = list(map(str,input(\"Enter elements of second array seperated by space: \").strip().split()))[:n2]\n",
        "print(\"arr2 is: \",arr2)\n",
        "arr1 = arr1 + arr2\n",
        "arr2 = arr1[:n1]\n",
        "arr1 = arr1[n1:]\n",
        "print(\"Arrays after swapping\")\n",
        "print(\"arr1 = \",arr1)\n",
        "print(\"arr2 = \",arr2)"
      ],
      "execution_count": null,
      "outputs": [
        {
          "output_type": "stream",
          "text": [
            "Enter number of elements of first array: 3\n",
            "Enter elements of first array seperated by space: apple orange grape\n",
            "arr1 is:  ['apple', 'orange', 'grape']\n",
            "Enter number of elements of second array: 4\n",
            "Enter elements of second array seperated by space: blue green yellow\n",
            "arr2 is:  ['blue', 'green', 'yellow']\n",
            "Arrays after swapping\n",
            "arr1 =  ['blue', 'green', 'yellow']\n",
            "arr2 =  ['apple', 'orange', 'grape']\n"
          ],
          "name": "stdout"
        }
      ]
    },
    {
      "cell_type": "markdown",
      "metadata": {
        "id": "DMnLTCkOCJSf"
      },
      "source": [
        "3.Write a python program to concatenate two strings"
      ]
    },
    {
      "cell_type": "code",
      "metadata": {
        "id": "YLJtFur2-KkI",
        "colab": {
          "base_uri": "https://localhost:8080/"
        },
        "outputId": "6234ceea-e226-4898-b7b6-f21b5f8170f3"
      },
      "source": [
        "# Program to concatenate 2 strings\n",
        "string1 = input(\"Enter first string: \")\n",
        "string2 = input(\"Enter second string: \")\n",
        "print(\"After concatenation: \", string1 + string2)"
      ],
      "execution_count": null,
      "outputs": [
        {
          "output_type": "stream",
          "text": [
            "Enter first string: Hello\n",
            "Enter second string: World!\n",
            "After concatenation:  HelloWorld!\n"
          ],
          "name": "stdout"
        }
      ]
    },
    {
      "cell_type": "markdown",
      "metadata": {
        "id": "dxQA_eB5DLTr"
      },
      "source": [
        "4.Write a python program to find the Largest Two Numbers in a given Array"
      ]
    },
    {
      "cell_type": "code",
      "metadata": {
        "id": "CNpvtxIuCgnJ",
        "colab": {
          "base_uri": "https://localhost:8080/"
        },
        "outputId": "b2e72064-25f8-4732-8a99-5c7e026eaae3"
      },
      "source": [
        "# Program to find largest 2 numbers in agiven array\n",
        "n = int(input(\"Enter number of elements of array: \"))\n",
        "arr = list(map(float,input(\"Enter elements of array seperated by space: \").strip().split()))[:n]\n",
        "print(\"Given array is: \",arr)\n",
        "arr.sort(reverse = True)\n",
        "print(\"Largest two numbers in the array are: \",str(arr[0]) + \" and\",str(arr[1]))"
      ],
      "execution_count": null,
      "outputs": [
        {
          "output_type": "stream",
          "text": [
            "Enter number of elements of array: 5\n",
            "Enter elements of array seperated by space: 1 2 3 4 53\n",
            "Given array is:  [1.0, 2.0, 3.0, 4.0, 53.0]\n",
            "Largest two numbers in the array are:  53.0 and 4.0\n"
          ],
          "name": "stdout"
        }
      ]
    },
    {
      "cell_type": "markdown",
      "metadata": {
        "id": "n0o_jjB2Rudp"
      },
      "source": [
        "5. Create a linked list.\n",
        "*   Add 1,2,3,4\n",
        "*   Add 0 at the beginning\n",
        "*   Add 5 between 2 and 3\n",
        "*   Delete 4.\n",
        "*   Delete 2nd element\n",
        "*   Add 6 at the end\n",
        "*   Delete first node\n",
        "\n"
      ]
    },
    {
      "cell_type": "code",
      "metadata": {
        "id": "0Utd66pZEhIu",
        "colab": {
          "base_uri": "https://localhost:8080/"
        },
        "outputId": "d028fcaf-cfaf-4ae8-f04d-1506e4dfe732"
      },
      "source": [
        "# Program for Linked list : creation, addition of elements, deletion\n",
        "class Node:\n",
        "  def __init__(self,data):\n",
        "    self.data = data\n",
        "    self.next = None\n",
        "\n",
        "class Linkedlist:\n",
        "  def __init__(self):\n",
        "    self.head = None\n",
        "\n",
        "  def push(self,new_data):\n",
        "    new_node = Node(new_data)\n",
        "    new_node.next = self.head\n",
        "    self.head = new_node\n",
        "\n",
        "  def deleteNode(self, key):\n",
        "        \n",
        "    # Store head node\n",
        "    temp = self.head\n",
        "\n",
        "    # If head node itself holds the key to be deleted\n",
        "    if (temp is not None):\n",
        "      if (temp.data == key):\n",
        "        self.head = temp.next\n",
        "        temp = None\n",
        "        return\n",
        "\n",
        "    # Search for the key to be deleted, keep track of the\n",
        "    # previous node as we need to change 'prev.next'\n",
        "    while(temp is not None):\n",
        "      if temp.data == key:\n",
        "        break\n",
        "      prev = temp\n",
        "      temp = temp.next\n",
        "\n",
        "    # if key was not present in linked list\n",
        "    if(temp == None):\n",
        "      return\n",
        "\n",
        "    # Unlink the node from linked list\n",
        "    prev.next = temp.next\n",
        "\n",
        "    temp = None\n",
        "\n",
        "  def insertAfter(self, prev_node, new_data):\n",
        "    if prev_node is None:\n",
        "      print(\"The given node is None, it should be a valid node\")\n",
        "      return\n",
        "    new_node = Node(new_data)\n",
        "    new_node.next = prev_node.next\n",
        "    prev_node.next = new_node\n",
        "  \n",
        "      # This function is defined in Linked List class\n",
        "    # Appends a new node at the end. This method is\n",
        "    # defined inside LinkedList class shown above */\n",
        "  def append(self, new_data):\n",
        "    \n",
        "    # 1. Create a new node\n",
        "    # 2. Put in the data\n",
        "    # 3. Set next as None\n",
        "    new_node = Node(new_data)\n",
        "\n",
        "    # 4. If the Linked List is empty, then make the\n",
        "    # new node as head\n",
        "    if self.head is None:\n",
        "      self.head = new_node\n",
        "      return\n",
        "\n",
        "    # 5. Else traverse till the last node\n",
        "    last = self.head\n",
        "    while (last.next):\n",
        "      last = last.next\n",
        "\n",
        "    # 6. Change the next of last node\n",
        "    last.next = new_node\n",
        "      \n",
        "  def printlist(self):\n",
        "    temp = self.head\n",
        "    while(temp):\n",
        "      print(temp.data)\n",
        "      temp = temp.next\n",
        "  \n",
        "if __name__ == \"__main__\":\n",
        "  llist = Linkedlist()\n",
        "  llist.push(1)\n",
        "  llist.push(2)\n",
        "  llist.push(3)\n",
        "  llist.push(4)\n",
        "  #llist.insertAfter(llist.head.next, 8)\n",
        "  print(\"Linked list created....\")\n",
        "  print(\"Added 1,2,3,4 to the linked list....\")\n",
        "  print(\"Created Linked List is: \")\n",
        "  llist.printlist()\n",
        "  llist.push(0)\n",
        "  print(\"Added 0 at the beginning....\")\n",
        "  llist.printlist()\n",
        "  llist.insertAfter(llist.head.next.next,5)\n",
        "  print(\"Added  5 between 2 and 3 ....\")\n",
        "  llist.printlist()\n",
        "  llist.deleteNode(4)\n",
        "  print(\"Deleted 4 ....\")\n",
        "  llist.printlist()\n",
        "  llist.append(6)\n",
        "  print(\"Added 6 at the end....\")\n",
        "  llist.printlist()\n",
        "  llist.deleteNode(llist.head.data)\n",
        "  print(\"Deleted first node ....\")\n",
        "  llist.printlist()"
      ],
      "execution_count": null,
      "outputs": [
        {
          "output_type": "stream",
          "text": [
            "Linked list created....\n",
            "Added 1,2,3,4 to the linked list....\n",
            "Created Linked List is: \n",
            "4\n",
            "3\n",
            "2\n",
            "1\n",
            "Added 0 at the beginning....\n",
            "0\n",
            "4\n",
            "3\n",
            "2\n",
            "1\n",
            "Added  5 between 2 and 3 ....\n",
            "0\n",
            "4\n",
            "3\n",
            "5\n",
            "2\n",
            "1\n",
            "Deleted 4 ....\n",
            "0\n",
            "3\n",
            "5\n",
            "2\n",
            "1\n",
            "Added 6 at the end....\n",
            "0\n",
            "3\n",
            "5\n",
            "2\n",
            "1\n",
            "6\n",
            "Deleted first node ....\n",
            "3\n",
            "5\n",
            "2\n",
            "1\n",
            "6\n"
          ],
          "name": "stdout"
        }
      ]
    },
    {
      "cell_type": "code",
      "metadata": {
        "id": "n8nllKXsRk6u"
      },
      "source": [
        ""
      ],
      "execution_count": null,
      "outputs": []
    },
    {
      "cell_type": "code",
      "metadata": {
        "colab": {
          "base_uri": "https://localhost:8080/"
        },
        "id": "Oy1XQJbAyR7t",
        "outputId": "859b11e0-6916-4fb9-a73a-3d9399d3f4a4"
      },
      "source": [
        "person1 = {'name':'Ajay','age':22,'male':True,'height':5.4}\n",
        "print(person1['age'])"
      ],
      "execution_count": null,
      "outputs": [
        {
          "output_type": "stream",
          "text": [
            "22\n"
          ],
          "name": "stdout"
        }
      ]
    },
    {
      "cell_type": "markdown",
      "metadata": {
        "id": "cJv2q6M6I0vl"
      },
      "source": [
        "Replace each element in the list with its square"
      ]
    },
    {
      "cell_type": "code",
      "metadata": {
        "colab": {
          "base_uri": "https://localhost:8080/"
        },
        "id": "HoTRrbRdI4d4",
        "outputId": "c4dd5a06-3d6c-4acf-b441-e596b72fec83"
      },
      "source": [
        "for i in range(len(L)):\n",
        "  L[i] = L[i]**2\n",
        "print(L)"
      ],
      "execution_count": null,
      "outputs": [
        {
          "output_type": "stream",
          "text": [
            "[625, 9409, 900, 8649, 4900, 9025, 2304, 361, 8649, 9216, 8100, 1225, 1156, 3364, 1156, 1, 6400, 729, 196, 1156, 6400, 1849, 81, 324, 576, 5625, 9, 256, 1764, 1296, 784, 4, 3844, 6084, 576, 2025, 2601, 8281, 5776, 576, 121, 9409, 3969, 441, 1764, 16, 9409, 484, 729, 25]\n"
          ],
          "name": "stdout"
        }
      ]
    },
    {
      "cell_type": "code",
      "metadata": {
        "colab": {
          "base_uri": "https://localhost:8080/"
        },
        "id": "lUnIkdil_9ge",
        "outputId": "29d2acab-401a-40d6-b1ca-1ff3f9ecd4fb"
      },
      "source": [
        "from random import randint\n",
        "L = []\n",
        "for i in range(50):\n",
        "  L.append(randint(1,100))\n",
        "print(L)"
      ],
      "execution_count": null,
      "outputs": [
        {
          "output_type": "stream",
          "text": [
            "[94, 45, 17, 15, 1, 73, 1, 5, 81, 28, 94, 47, 89, 89, 65, 30, 21, 58, 80, 5, 96, 25, 64, 84, 50, 84, 4, 60, 4, 22, 41, 15, 12, 45, 43, 67, 73, 78, 6, 5, 14, 2, 59, 49, 39, 20, 45, 35, 53, 59]\n"
          ],
          "name": "stdout"
        }
      ]
    },
    {
      "cell_type": "markdown",
      "metadata": {
        "id": "BTR3_u0GKOr7"
      },
      "source": [
        "Count how many items in the list L are greater than 50"
      ]
    },
    {
      "cell_type": "code",
      "metadata": {
        "colab": {
          "base_uri": "https://localhost:8080/"
        },
        "id": "DPycQomOKkDz",
        "outputId": "e90360e3-6c3f-47f9-b14e-8a8689120f9d"
      },
      "source": [
        "count = 0\n",
        "for i in L:\n",
        "  if i>50:\n",
        "    count = count + 1\n",
        "print(count)"
      ],
      "execution_count": null,
      "outputs": [
        {
          "output_type": "stream",
          "text": [
            "20\n"
          ],
          "name": "stdout"
        }
      ]
    },
    {
      "cell_type": "markdown",
      "metadata": {
        "id": "yKToAUE6M6Fg"
      },
      "source": [
        "# mean = sum of items /number of items\n",
        "\n",
        "#variance = [sigma((x-xbar))**2]/ number of items\n",
        "\n",
        "# std dev, sd = sqrt(variance)"
      ]
    },
    {
      "cell_type": "code",
      "metadata": {
        "colab": {
          "base_uri": "https://localhost:8080/"
        },
        "id": "DDfrMvfTNHq4",
        "outputId": "12e72a50-0b01-4e2e-bb39-9ed2ade23e0e"
      },
      "source": [
        "list_numbers = [-4,-3,-2,-1,0,1,2,3,4]\n",
        "var = 0\n",
        "mean = sum(list_numbers)/len(list_numbers)\n",
        "for i in list_numbers:\n",
        "  var = var + (i - mean)**2\n",
        "var = var/len(list_numbers)\n",
        "print(\"Mean = \",mean)\n",
        "print(var)\n",
        "sd = var**0.5\n",
        "print(sd)"
      ],
      "execution_count": null,
      "outputs": [
        {
          "output_type": "stream",
          "text": [
            "Mean =  0.0\n",
            "6.666666666666667\n",
            "2.581988897471611\n"
          ],
          "name": "stdout"
        }
      ]
    },
    {
      "cell_type": "markdown",
      "metadata": {
        "id": "cbyk9hQJRsXT"
      },
      "source": [
        "#Assignment - median value of a list"
      ]
    },
    {
      "cell_type": "code",
      "metadata": {
        "colab": {
          "base_uri": "https://localhost:8080/"
        },
        "id": "CHu7tB00W--i",
        "outputId": "4de71ce0-7133-4de5-80a7-ce0664335b9f"
      },
      "source": [
        "list1 = list(map(float,(input(\"Enter elements of the list, seperated by a space: \").strip().split())))\n",
        "list1.sort()\n",
        "print(list1)\n",
        "m1 = list1[(len(list1) - 1)//2]\n",
        "m2 = list1[len(list1)//2]\n",
        "median = (m1 + m2)/2\n",
        "print(\"Meadian = \",median)"
      ],
      "execution_count": null,
      "outputs": [
        {
          "output_type": "stream",
          "text": [
            "Enter elements of the list, seperated by a space: 5 1 8 3 6\n",
            "[1.0, 3.0, 5.0, 6.0, 8.0]\n",
            "Meadian =  5.0\n"
          ],
          "name": "stdout"
        }
      ]
    },
    {
      "cell_type": "markdown",
      "metadata": {
        "id": "1jHQIZt4Rxtj"
      },
      "source": [
        ",#List elements in ascending and descending order,,,"
      ]
    },
    {
      "cell_type": "code",
      "metadata": {
        "colab": {
          "base_uri": "https://localhost:8080/"
        },
        "id": "eZbFkotER20O",
        "outputId": "7503ffa1-8d70-479a-8c31-c3b78ca84a8e"
      },
      "source": [
        "l = [1,6,2,3,99,5,-9,7,3,45,3,26]\n",
        "\n",
        "l.sort()\n",
        "ascending = l\n",
        "descending = l[::-1]\n",
        "print(\"Ascending: \",ascending)\n",
        "print(\"Descending: \",descending)"
      ],
      "execution_count": null,
      "outputs": [
        {
          "output_type": "stream",
          "text": [
            "Ascending:  [-9, 1, 2, 3, 3, 3, 5, 6, 7, 26, 45, 99]\n",
            "Descending:  [99, 45, 26, 7, 6, 5, 3, 3, 3, 2, 1, -9]\n"
          ],
          "name": "stdout"
        }
      ]
    },
    {
      "cell_type": "code",
      "metadata": {
        "colab": {
          "base_uri": "https://localhost:8080/"
        },
        "id": "AXmx0pIxWLUf",
        "outputId": "262259de-441c-4280-bb1d-a7516e8e5a1f"
      },
      "source": [
        "l1 = [1,1,2,4,5,6,6,3] #print True since duplicate is there\n",
        "l2 = [1,2,3,4,5,6] #print False since there is no duplicate\n",
        "\n",
        "#iterate through the list\n",
        "#condition whether present in other list\n",
        "# membership operator (not in, in)\n",
        "temp1 = []\n",
        "l = l2\n",
        "count = 0\n",
        "for i in l:\n",
        "  if i not in temp1:\n",
        "    temp1.append(i)\n",
        "    count = count + 1\n",
        "  else:\n",
        "    print(\"True\")\n",
        "    break\n",
        "  if count == len(l):\n",
        "    print(\"False\")\n",
        "  "
      ],
      "execution_count": null,
      "outputs": [
        {
          "output_type": "stream",
          "text": [
            "False\n"
          ],
          "name": "stdout"
        }
      ]
    },
    {
      "cell_type": "markdown",
      "metadata": {
        "id": "-L4lHLLidEZB"
      },
      "source": [
        "Print prime numbers from a list"
      ]
    },
    {
      "cell_type": "code",
      "metadata": {
        "colab": {
          "base_uri": "https://localhost:8080/"
        },
        "id": "xbbGUG1XdG_p",
        "outputId": "e38feef4-539d-4c05-c4d3-8d8103fc0ef1"
      },
      "source": [
        "l3 = [1,3,5,7,9,6,5,12,25,23]\n",
        "primes = []\n"
      ],
      "execution_count": null,
      "outputs": [
        {
          "output_type": "stream",
          "text": [
            "[1, 3, 5, 7, 9, 6, 5, 12, 25, 23]\n"
          ],
          "name": "stdout"
        }
      ]
    },
    {
      "cell_type": "code",
      "metadata": {
        "colab": {
          "base_uri": "https://localhost:8080/",
          "height": 214
        },
        "id": "2pzrKXqQfCla",
        "outputId": "aeebd7ef-6e66-4ade-87bd-c618dbe1f4b5"
      },
      "source": [
        "#matrix addition\n",
        "\n",
        "matrix_1 = [[1,2,3],\n",
        "            [4,5,6],\n",
        "            [7,8,9]]\n",
        "matrix_2 = [[1,2,3],\n",
        "            [4,5,6],\n",
        "            [7,8,9]]\n",
        "matrix_result = []\n",
        "for rows in range(len(matrix_1)):\n",
        "  for cols in range(len(matrix_2[0])-1):\n",
        "    matrix_result [rows][cols] = matrix_1[rows][cols]+matrix_1[rows][cols]\n",
        "print(matrix_result)"
      ],
      "execution_count": null,
      "outputs": [
        {
          "output_type": "error",
          "ename": "IndexError",
          "evalue": "ignored",
          "traceback": [
            "\u001b[0;31m---------------------------------------------------------------------------\u001b[0m",
            "\u001b[0;31mIndexError\u001b[0m                                Traceback (most recent call last)",
            "\u001b[0;32m<ipython-input-27-f0f582ade664>\u001b[0m in \u001b[0;36m<module>\u001b[0;34m()\u001b[0m\n\u001b[1;32m     10\u001b[0m \u001b[0;32mfor\u001b[0m \u001b[0mrows\u001b[0m \u001b[0;32min\u001b[0m \u001b[0mrange\u001b[0m\u001b[0;34m(\u001b[0m\u001b[0mlen\u001b[0m\u001b[0;34m(\u001b[0m\u001b[0mmatrix_1\u001b[0m\u001b[0;34m)\u001b[0m\u001b[0;34m)\u001b[0m\u001b[0;34m:\u001b[0m\u001b[0;34m\u001b[0m\u001b[0;34m\u001b[0m\u001b[0m\n\u001b[1;32m     11\u001b[0m   \u001b[0;32mfor\u001b[0m \u001b[0mcols\u001b[0m \u001b[0;32min\u001b[0m \u001b[0mrange\u001b[0m\u001b[0;34m(\u001b[0m\u001b[0mlen\u001b[0m\u001b[0;34m(\u001b[0m\u001b[0mmatrix_2\u001b[0m\u001b[0;34m[\u001b[0m\u001b[0;36m0\u001b[0m\u001b[0;34m]\u001b[0m\u001b[0;34m)\u001b[0m\u001b[0;34m-\u001b[0m\u001b[0;36m1\u001b[0m\u001b[0;34m)\u001b[0m\u001b[0;34m:\u001b[0m\u001b[0;34m\u001b[0m\u001b[0;34m\u001b[0m\u001b[0m\n\u001b[0;32m---> 12\u001b[0;31m     \u001b[0mmatrix_result\u001b[0m \u001b[0;34m[\u001b[0m\u001b[0mrows\u001b[0m\u001b[0;34m]\u001b[0m\u001b[0;34m[\u001b[0m\u001b[0mcols\u001b[0m\u001b[0;34m]\u001b[0m \u001b[0;34m=\u001b[0m \u001b[0mmatrix_1\u001b[0m\u001b[0;34m[\u001b[0m\u001b[0mrows\u001b[0m\u001b[0;34m]\u001b[0m\u001b[0;34m[\u001b[0m\u001b[0mcols\u001b[0m\u001b[0;34m]\u001b[0m\u001b[0;34m+\u001b[0m\u001b[0mmatrix_1\u001b[0m\u001b[0;34m[\u001b[0m\u001b[0mrows\u001b[0m\u001b[0;34m]\u001b[0m\u001b[0;34m[\u001b[0m\u001b[0mcols\u001b[0m\u001b[0;34m]\u001b[0m\u001b[0;34m\u001b[0m\u001b[0;34m\u001b[0m\u001b[0m\n\u001b[0m\u001b[1;32m     13\u001b[0m \u001b[0mprint\u001b[0m\u001b[0;34m(\u001b[0m\u001b[0mmatrix_result\u001b[0m\u001b[0;34m)\u001b[0m\u001b[0;34m\u001b[0m\u001b[0;34m\u001b[0m\u001b[0m\n",
            "\u001b[0;31mIndexError\u001b[0m: list index out of range"
          ]
        }
      ]
    },
    {
      "cell_type": "code",
      "metadata": {
        "colab": {
          "base_uri": "https://localhost:8080/"
        },
        "id": "FBg4YOjuguYv",
        "outputId": "89f1a548-c8db-4f1d-eb01-d385e83bded7"
      },
      "source": [
        "#reverse list without using reverse.\n",
        "l = [1,2,3]\n",
        "rev_l = []\n",
        "for item in range(len(l),0,-1):\n",
        "  rev_l.append(item)\n",
        "print(rev_l)\n"
      ],
      "execution_count": null,
      "outputs": [
        {
          "output_type": "stream",
          "text": [
            "[3, 2, 1]\n"
          ],
          "name": "stdout"
        }
      ]
    },
    {
      "cell_type": "markdown",
      "metadata": {
        "id": "KC_MXcPE630p"
      },
      "source": [
        "1)Transpose of a matrix"
      ]
    },
    {
      "cell_type": "code",
      "metadata": {
        "colab": {
          "base_uri": "https://localhost:8080/"
        },
        "id": "u5hDWPxetNtF",
        "outputId": "d38b3c5b-53da-4156-9426-a36ba3e6997f"
      },
      "source": [
        "#Program to find transpose of a matrix\n",
        "rows = int(input(\"Enter the number of rows: \")) \n",
        "cols = int(input(\"Enter the number of columns: \")) \n",
        "\n",
        "matrix = [] \n",
        "print(\"Enter the elements of row:\") \n",
        "# For user input \n",
        "for i in range(rows):\n",
        "  a =[] \n",
        "  for j in range(cols):\n",
        "    a.append(int(input())) \n",
        "  matrix.append(a)\n",
        "\n",
        "# For printing the matrix\n",
        "print(\"Input matrix is: \")\n",
        "for i in range(rows): \n",
        "  for j in range(cols):\n",
        "    print(matrix[i][j], end = \" \")\n",
        "  print() \n",
        "\n",
        "#transpose of matrix\n",
        "print('Transpose matrix: ')\n",
        "transpose = map(list, zip(*matrix))\n",
        "for t in transpose:\n",
        "  print(t)"
      ],
      "execution_count": null,
      "outputs": [
        {
          "output_type": "stream",
          "text": [
            "Enter the number of rows: 2\n",
            "Enter the number of columns: 3\n",
            "Enter the elements of row:\n",
            "1\n",
            "2\n",
            "3\n",
            "4\n",
            "5\n",
            "6\n",
            "Input matrix is: \n",
            "1 2 3 \n",
            "4 5 6 \n",
            "Transpose matrix: \n",
            "[1, 4]\n",
            "[2, 5]\n",
            "[3, 6]\n"
          ],
          "name": "stdout"
        }
      ]
    },
    {
      "cell_type": "markdown",
      "metadata": {
        "id": "dT25pAgR68G4"
      },
      "source": [
        "2)Armstrong number"
      ]
    },
    {
      "cell_type": "code",
      "metadata": {
        "id": "vrYTHLSUwyML",
        "colab": {
          "base_uri": "https://localhost:8080/"
        },
        "outputId": "1980a28d-e432-4e6c-8def-3b580ab721f8"
      },
      "source": [
        "#Program to check if a number is Armstrong number or not\n",
        "\n",
        "def isArmstrong (n):\n",
        "  l = len(n)\n",
        "  s = 0\n",
        "  for i in range(l):\n",
        "    a = int(n[i])\n",
        "    s += a**l\n",
        "  if s==int(n):\n",
        "    print(n,\"is an Armstrong number\")\n",
        "  else:\n",
        "    print(n,\"is not Armstrong number\")\n",
        "n = input(\"Enter number: \")\n",
        "isArmstrong(n)"
      ],
      "execution_count": null,
      "outputs": [
        {
          "output_type": "stream",
          "text": [
            "Enter number: 8208\n",
            "8208 is an Armstrong number\n"
          ],
          "name": "stdout"
        }
      ]
    },
    {
      "cell_type": "markdown",
      "metadata": {
        "id": "wSsMPulJ7BKB"
      },
      "source": [
        "3)Fibonacci"
      ]
    },
    {
      "cell_type": "code",
      "metadata": {
        "colab": {
          "base_uri": "https://localhost:8080/"
        },
        "id": "1qc1siTa1FGg",
        "outputId": "850da55e-5d75-4526-bad4-3e9b29e4bc4f"
      },
      "source": [
        "# Program to print Fibonacci series upto n\n",
        "def fibonacci(n):\n",
        "    if n<=0:\n",
        "        print(\"Number less than or equal to 0\")\n",
        "    elif n==1:\n",
        "        return 0\n",
        "    elif n==2:\n",
        "        return 1\n",
        "    else:\n",
        "        return (fibonacci(n-1)+fibonacci(n-2))\n",
        "n = int(input(\"Enter the number: \"))\n",
        "for i in range(1,n+1):\n",
        "  print(fibonacci(i),end =' ')"
      ],
      "execution_count": null,
      "outputs": [
        {
          "output_type": "stream",
          "text": [
            "Enter the number: 10\n",
            "0 1 1 2 3 5 8 13 21 34 "
          ],
          "name": "stdout"
        }
      ]
    },
    {
      "cell_type": "markdown",
      "metadata": {
        "id": "ucIQAusz7Em6"
      },
      "source": [
        "4) Median of a list"
      ]
    },
    {
      "cell_type": "code",
      "metadata": {
        "colab": {
          "base_uri": "https://localhost:8080/"
        },
        "id": "PRz3Tq065M2I",
        "outputId": "3aea7832-be4d-4f8d-e5a8-adc235934a14"
      },
      "source": [
        "#Program to find median value of a list\n",
        "list1 = list(map(float,(input(\"Enter elements of the list, seperated by a space: \").strip().split())))\n",
        "list1.sort()\n",
        "print(list1)\n",
        "m1 = list1[(len(list1) - 1)//2]\n",
        "m2 = list1[len(list1)//2]\n",
        "median = (m1 + m2)/2\n",
        "print(\"Median = \",median)"
      ],
      "execution_count": null,
      "outputs": [
        {
          "output_type": "stream",
          "text": [
            "Enter elements of the list, seperated by a space: 1 2 3 4 5 6\n",
            "[1.0, 2.0, 3.0, 4.0, 5.0, 6.0]\n",
            "Median =  3.5\n"
          ],
          "name": "stdout"
        }
      ]
    },
    {
      "cell_type": "markdown",
      "metadata": {
        "id": "Tr6VCfyIyVuP"
      },
      "source": [
        "1. Write a python program to check whether a 4 digit number is palindrome or not."
      ]
    },
    {
      "cell_type": "code",
      "metadata": {
        "id": "Rc_zzzmZuLcD",
        "colab": {
          "base_uri": "https://localhost:8080/"
        },
        "outputId": "dce700ed-3785-4765-a887-4d19210f41b1"
      },
      "source": [
        "#Program to find if the given 4 digit number is palindrome or not\n",
        "s = list(input(\"Enter 4 digit number: \"))[:4]\n",
        "if (s[::-1]== s):\n",
        "  print(\"Palindrome\")\n",
        "else:\n",
        "  print(\"not palindrome\")"
      ],
      "execution_count": null,
      "outputs": [
        {
          "output_type": "stream",
          "text": [
            "Enter 4 digit number: 4554\n",
            "Palindrome\n"
          ],
          "name": "stdout"
        }
      ]
    },
    {
      "cell_type": "markdown",
      "metadata": {
        "id": "_uvSACMEyffE"
      },
      "source": [
        "2. Write a python program to check whether a character is upper case, digit,lower case or special."
      ]
    },
    {
      "cell_type": "code",
      "metadata": {
        "id": "aWroR8UaygOs",
        "colab": {
          "base_uri": "https://localhost:8080/"
        },
        "outputId": "df65f011-e5f2-4e8e-9ad3-8992c0470283"
      },
      "source": [
        "#Program to check whether a character is upper case, digit,lower case or special character.\n",
        "letter = input(\"Enter a character: \")[:1]\n",
        "if letter.isupper():\n",
        "  print(letter,\"Is an uppercase alphabet\")\n",
        "elif letter.islower():\n",
        "  print(letter,\"Is a lowercase alphabet\")\n",
        "elif letter.isdigit():\n",
        "  print(letter,\"is a digit\")\n",
        "else:\n",
        "  print(letter, \"is special character\")"
      ],
      "execution_count": null,
      "outputs": [
        {
          "output_type": "stream",
          "text": [
            "Enter a character: ,\n",
            ", is special character\n"
          ],
          "name": "stdout"
        }
      ]
    },
    {
      "cell_type": "markdown",
      "metadata": {
        "id": "R1NWsDZGz7RB"
      },
      "source": [
        "\n",
        "3. Write a python program to find the roots of a quadratic equation. Take a,b,c as input."
      ]
    },
    {
      "cell_type": "code",
      "metadata": {
        "id": "EntBrYu50HH_",
        "colab": {
          "base_uri": "https://localhost:8080/"
        },
        "outputId": "1f300c08-098b-445f-fb5d-47f22c3bb3d1"
      },
      "source": [
        "#Program to find the roots of a quadratic equation given by ax^2 + bx + c = 0 ; a!= 0\n",
        "import cmath\n",
        "a = int(input(\"Enter a: \"))\n",
        "b = int(input(\"Enter b: \"))\n",
        "c = int(input(\"Enter c: \"))\n",
        "\n",
        "# find discriminant\n",
        "d = (b**2) - (4*a*c)\n",
        "\n",
        "# find roots\n",
        "root1 = (-b-cmath.sqrt(d))/(2*a)\n",
        "root2 = (-b+cmath.sqrt(d))/(2*a)\n",
        "if d ==0:\n",
        "  print(\"Roots are same, and the root is :\", root1)\n",
        "else:\n",
        "   print(\"Root 1 is: \", root1)\n",
        "   print(\"Root 2 is: \", root2)"
      ],
      "execution_count": null,
      "outputs": [
        {
          "output_type": "stream",
          "text": [
            "Enter a: 4\n",
            "Enter b: 5\n",
            "Enter c: 6\n",
            "Root 1 is:  (-0.625-1.0532687216470449j)\n",
            "Root 2 is:  (-0.625+1.0532687216470449j)\n"
          ],
          "name": "stdout"
        }
      ]
    },
    {
      "cell_type": "markdown",
      "metadata": {
        "id": "0lzXseia6zCM"
      },
      "source": [
        "4. Write a program to find the day of first January of given year, If in Gregorian calander, 01/01/1900 is Monday:\n",
        "\n",
        "Input is year , find out the day of 1st January. \n",
        "\n",
        "* testcase 1: 2021\n",
        "  output: Friday\n",
        "* testcase 2: 1999\n",
        "  output: Friday\n",
        "* testcase 3: 1990\n",
        "  output: Monday"
      ]
    },
    {
      "cell_type": "code",
      "metadata": {
        "id": "VDA47JUB7BkZ",
        "colab": {
          "base_uri": "https://localhost:8080/"
        },
        "outputId": "f582406f-226f-4442-e44d-74dcff36cf12"
      },
      "source": [
        "#Program to find out the day of 1st January\n",
        "\n",
        "# import datetime library \n",
        "import datetime \n",
        "\n",
        "year = int(input(\"Enter a year: \"))\n",
        "day = datetime.datetime(year, 1, 1) \n",
        "print(\"Jan 1  of year \", year, \" is \", day.strftime(\"%A\"))"
      ],
      "execution_count": null,
      "outputs": [
        {
          "output_type": "stream",
          "text": [
            "Enter a year: 1999\n",
            "Jan 1  of year  1999  is  Friday\n"
          ],
          "name": "stdout"
        }
      ]
    },
    {
      "cell_type": "markdown",
      "metadata": {
        "id": "gbeJMvVXfzBi"
      },
      "source": [
        "1. Write a program to find the hypotenuse of a right angled triangle"
      ]
    },
    {
      "cell_type": "code",
      "metadata": {
        "id": "8HPsJLfzfpiZ",
        "colab": {
          "base_uri": "https://localhost:8080/"
        },
        "outputId": "57ad53b5-aa8f-4f46-8438-66432fda6b3a"
      },
      "source": [
        "\"\"\"Program to find hypotenuse of a right angled triangle\n",
        "Formula is given buy, hypotenuse = square root of(altitude**2 + base**2)\"\"\"\n",
        "\n",
        "from math import sqrt\n",
        "a = float(input(\"Enter value of altitude: \"))\n",
        "b = float(input(\"Enter value of altitude: \"))\n",
        "h = sqrt(a**2 + b**2)\n",
        "print(\"Hypotnuse is: \",h)"
      ],
      "execution_count": null,
      "outputs": [
        {
          "output_type": "stream",
          "text": [
            "Enter value of altitude: 5\n",
            "Enter value of altitude: 2\n",
            "Hypotnuse is:  5.385164807134504\n"
          ],
          "name": "stdout"
        }
      ]
    },
    {
      "cell_type": "markdown",
      "metadata": {
        "id": "n2YYmgr2gNpp"
      },
      "source": [
        "2.Write a program to find compound interest"
      ]
    },
    {
      "cell_type": "code",
      "metadata": {
        "id": "3pu7BSoUpMnb",
        "colab": {
          "base_uri": "https://localhost:8080/"
        },
        "outputId": "6e6a167e-063f-4e32-bb4e-c61b7c83575b"
      },
      "source": [
        "\"\"\"Program to find compound interest\n",
        "Formula is given by, A = P(1 + r)**t\n",
        "A\t=\tfinal amount\n",
        "P\t=\tinitial principal balance\n",
        "r\t=\tinterest rate\n",
        "t\t=\ttime period \"\"\"\n",
        "\n",
        "principle = float(input(\"Enter principle amount: \"))\n",
        "rate = float(input(\"Enter interest rate percentage: \"))\n",
        "time = float(input(\"Enter number of years: \"))\n",
        "amt = principle * ((1 + rate/100)**time)\n",
        "print(\"Final amount is: \", amt)\n",
        "print(\"Interest amount is: \", amt - principle)\n"
      ],
      "execution_count": null,
      "outputs": [
        {
          "output_type": "stream",
          "text": [
            "Enter principle amount: 5000\n",
            "Enter interest rate percentage: 8\n",
            "Enter number of years: 5\n",
            "Final amount is:  7346.640384000003\n",
            "Interest amount is:  2346.640384000003\n"
          ],
          "name": "stdout"
        }
      ]
    },
    {
      "cell_type": "markdown",
      "metadata": {
        "id": "4flkCXIEgpC1"
      },
      "source": [
        "3. Write a program to find the minimum number of notes if amount is given. denomination of notes, are 100,50,20,10,5,2,1\n"
      ]
    },
    {
      "cell_type": "code",
      "metadata": {
        "id": "vad95_9V_99a",
        "colab": {
          "base_uri": "https://localhost:8080/"
        },
        "outputId": "fc7cbecc-dc33-4567-fe77-8b2696c9ef40"
      },
      "source": [
        "#Program to find minimum number of notes given an amount\n",
        "amt = int(input(\"Enter the amount: \"))\n",
        "notes = [100,50,20,10,5,2,1]\n",
        "count = 0\n",
        "for i in notes:\n",
        "  count += amt//i\n",
        "  amt = amt % i\n",
        "print(\"Minimum number of notes required is: \",count)"
      ],
      "execution_count": null,
      "outputs": [
        {
          "output_type": "stream",
          "text": [
            "Enter the amount: 255\n",
            "Minimum number of notes required is:  4\n"
          ],
          "name": "stdout"
        }
      ]
    },
    {
      "cell_type": "markdown",
      "metadata": {
        "id": "1BMT6WWmgu4E"
      },
      "source": [
        "4.Write a program to find the differnce between ASCII lowercase and its corresponding lowercase"
      ]
    },
    {
      "cell_type": "code",
      "metadata": {
        "id": "BSLv4leg98J0",
        "colab": {
          "base_uri": "https://localhost:8080/"
        },
        "outputId": "6a08c7b0-e9cd-4abe-9d39-10c4fa44fe66"
      },
      "source": [
        "#Program to get difference between ASCII values of lowercase and uppercase letter\n",
        "letter_lower = input(\"Enter a lowercase letter: \")\n",
        "ascii_lower = ord(letter_lower)\n",
        "ascii_diff = ord('a') - ord('A')\n",
        "ascii_upper = ascii_lower - ascii_diff\n",
        "print(\"Differnce in ASCII value of a lowercase letter and uppercase letter is:\",ascii_diff)\n",
        "print(\"Uppercase of letter entered is: \",chr(ascii_upper))"
      ],
      "execution_count": null,
      "outputs": [
        {
          "output_type": "stream",
          "text": [
            "Enter a lowercase letter: t\n",
            "Differnce in ASCII value of a lowercase letter and uppercase letter is: 32\n",
            "Uppercase of letter entered is:  T\n"
          ],
          "name": "stdout"
        }
      ]
    },
    {
      "cell_type": "markdown",
      "metadata": {
        "id": "S580GTIrvTbV"
      },
      "source": [
        "Write a program that asks the user to enter a date in the format of a month name followed by a day number. The program should print out whether the date is real. For instance, January 32 is not a real date,and neither is February 30. Assume that the user enters the full month name and that themonth name is valid. To validate the day number, use a dictionary that contains the number of days in each month."
      ]
    },
    {
      "cell_type": "code",
      "metadata": {
        "colab": {
          "base_uri": "https://localhost:8080/"
        },
        "id": "LuhO0tQcwNaK",
        "outputId": "2e860a28-0d4c-4581-bb3b-d79cbe11b1a0"
      },
      "source": [
        "#Valid date\r\n",
        "date = []\r\n",
        "date = input(\"Enter date : \").strip().split()\r\n",
        "date_dict = {'January': range(1,31),'February':range(1,29),'March':range(1,31),'April':range(1,30),\r\n",
        "             'May':range(1,31),'June':range(1,30),'July':range(1,31),'August':30,'September':range(1,30),\r\n",
        "             'October':range(1,31),'November':range(1,30),'December':range(1,31)}\r\n",
        "month = date[0]\r\n",
        "day = int(date[1])\r\n",
        "if day in date_dict[month]:\r\n",
        "  print('Valid')\r\n",
        "else:\r\n",
        "  print(\"Invalid\")\r\n",
        "\r\n",
        "\r\n",
        "  \r\n"
      ],
      "execution_count": null,
      "outputs": [
        {
          "output_type": "stream",
          "text": [
            "Enter date : January 6\n",
            "Valid\n"
          ],
          "name": "stdout"
        }
      ]
    },
    {
      "cell_type": "markdown",
      "metadata": {
        "id": "dNQ4uk7HAgQD"
      },
      "source": [
        "program2: write a function triangular(), that takes an integer n and return the nth triangular number. The nth triangular number is given by the formula n(n+1)/2."
      ]
    },
    {
      "cell_type": "code",
      "metadata": {
        "colab": {
          "base_uri": "https://localhost:8080/"
        },
        "id": "HwJD-usn_E_C",
        "outputId": "a07fed85-b42c-4ac6-dd33-94bc7ab05347"
      },
      "source": [
        "def triangular(n):\n",
        "  n_triangular = n * (n+1)/2\n",
        "  return(n_triangular)\n",
        "print(triangular(3))"
      ],
      "execution_count": null,
      "outputs": [
        {
          "output_type": "stream",
          "text": [
            "6.0\n"
          ],
          "name": "stdout"
        }
      ]
    },
    {
      "cell_type": "markdown",
      "metadata": {
        "id": "wtvBgidXCL7o"
      },
      "source": [
        "3)"
      ]
    },
    {
      "cell_type": "markdown",
      "metadata": {
        "id": "TB_ITdNJCSoK"
      },
      "source": [
        "program3: write a function get_total_bill(), that takes a bill amount and sales tax percentage and return the total bill amount, rounded to two decimal points."
      ]
    },
    {
      "cell_type": "code",
      "metadata": {
        "colab": {
          "base_uri": "https://localhost:8080/"
        },
        "id": "ldef6Mv8CPAd",
        "outputId": "9ab0bb4b-4225-4945-ec40-d27c0a544081"
      },
      "source": [
        "def get_total_bill(bill_amt,sales_tax_percent):\n",
        "  total_bill = round((bill_amt * (1 + sales_tax_percent/100)),2)\n",
        "  print(\"Total bill amount = \",total_bill)\n",
        "bill = float(input(\"Enter bill amount: \"))\n",
        "tax = float(input(\"Enter sales tax percentage: \"))\n",
        "get_total_bill(bill,tax)"
      ],
      "execution_count": null,
      "outputs": [
        {
          "output_type": "stream",
          "text": [
            "Enter bill amount: 500\n",
            "Enter sales tax percentage: 23.0036\n",
            "Total bill amount =  615.02\n"
          ],
          "name": "stdout"
        }
      ]
    },
    {
      "cell_type": "markdown",
      "metadata": {
        "id": "c1jm295rEkQb"
      },
      "source": [
        "program4: write a fucntion distance that takes four numbers x1,y1, x2,y2 and returns distance between (x1,y1) and (x2,y2)"
      ]
    },
    {
      "cell_type": "code",
      "metadata": {
        "colab": {
          "base_uri": "https://localhost:8080/"
        },
        "id": "SjDymWVxEksU",
        "outputId": "ee618233-82ae-495c-a9f4-031b874f56b3"
      },
      "source": [
        "def distance(x1,y1,x2,y2):\n",
        "  dist_1 = (x1 + y1)**(0.5)\n",
        "  dist_2 = (x2 + y2)**(0.5)\n",
        "  return((dist_1,dist_1))\n",
        "x1 = float(input(\"enter point x1: \"))\n",
        "y1 = float(input(\"enter point y1: \"))\n",
        "x2 = float(input(\"enter point x2: \"))\n",
        "y2 = float(input(\"enter point y2: \"))\n",
        "print(\"Diatance 1 = \",distance(x1,y1,x2,y2)[0])\n",
        "print(\"Diatance 2 = \",distance(x1,y1,x2,y2)[1])"
      ],
      "execution_count": null,
      "outputs": [
        {
          "output_type": "stream",
          "text": [
            "enter point x1: 1\n",
            "enter point y1: 2\n",
            "enter point x2: 3\n",
            "enter point y2: 4\n",
            "Diatance 1 =  1.7320508075688772\n",
            "Diatance 2 =  1.7320508075688772\n"
          ],
          "name": "stdout"
        }
      ]
    },
    {
      "cell_type": "markdown",
      "metadata": {
        "id": "dNQe7w_rGgvh"
      },
      "source": [
        "#Program5) Perfect square: takes an integer and prints squares from 1 to that number. It should not return anything"
      ]
    },
    {
      "cell_type": "code",
      "metadata": {
        "id": "dyBKEU42GvPm"
      },
      "source": [
        ""
      ],
      "execution_count": null,
      "outputs": []
    },
    {
      "cell_type": "markdown",
      "metadata": {
        "id": "pMt79BCeGr-D"
      },
      "source": [
        "Program6) Write a function that takes a starting number, ending number and step and adds up all the integers in that range. \n",
        "Ex : add_up(2,6,1) result 14 ; pr = "
      ]
    },
    {
      "cell_type": "code",
      "metadata": {
        "colab": {
          "base_uri": "https://localhost:8080/"
        },
        "id": "Td4c70oSHVsx",
        "outputId": "f979e205-3cb0-4c5b-ef64-2b0c1d9cdd37"
      },
      "source": [
        "def add_up(start,end,step):\n",
        "  sum = 0\n",
        "  for i in range(start,end,step):\n",
        "    sum = sum + i\n",
        "  print(sum)\n",
        "add_up(1,5,1)"
      ],
      "execution_count": null,
      "outputs": [
        {
          "output_type": "stream",
          "text": [
            "10\n"
          ],
          "name": "stdout"
        }
      ]
    },
    {
      "cell_type": "markdown",
      "metadata": {
        "id": "oGvNlMZ3HyGw"
      },
      "source": [
        "Program 7 )Write a python funciony of characters contained in hist(), that takes string value as parameter and generates a frquency of characters contained in it.\n",
        "ex: hist('parvathy') output: {'p':1,'a':2,'r':1,'v':1,'t':1,'h':1,'y':1"
      ]
    },
    {
      "cell_type": "code",
      "metadata": {
        "colab": {
          "base_uri": "https://localhost:8080/"
        },
        "id": "Q4qZnZI1IrPf",
        "outputId": "73de6c0a-d7ce-4773-93af-e88e4f7815b4"
      },
      "source": [
        "def hist(input_string):\n",
        "  freq = {}\n",
        "  for char in input_string:\n",
        "    if char not in freq:\n",
        "      freq[char] = 1\n",
        "    else:\n",
        "      freq[char] = freq[char] + 1\n",
        "  print(freq)\n",
        "hist('parvathy')\n"
      ],
      "execution_count": null,
      "outputs": [
        {
          "output_type": "stream",
          "text": [
            "{'p': 1, 'a': 2, 'r': 1, 'v': 1, 't': 1, 'h': 1, 'y': 1}\n"
          ],
          "name": "stdout"
        }
      ]
    },
    {
      "cell_type": "markdown",
      "metadata": {
        "id": "93KEpbMMMaAZ"
      },
      "source": [
        ""
      ]
    },
    {
      "cell_type": "code",
      "metadata": {
        "colab": {
          "base_uri": "https://localhost:8080/"
        },
        "id": "KZ8lSsc6Maqp",
        "outputId": "bc68cafc-430b-42e7-fecb-3299ede6e142"
      },
      "source": [
        "def sq_of_nums(n):\n",
        "   sq = {}\n",
        "   for i  in range(n+1):\n",
        "     sq[i] = i**2\n",
        "   print(sq)\n",
        "sq_of_nums(3)"
      ],
      "execution_count": null,
      "outputs": [
        {
          "output_type": "stream",
          "text": [
            "{0: 0, 1: 1, 2: 4, 3: 9}\n"
          ],
          "name": "stdout"
        }
      ]
    },
    {
      "cell_type": "markdown",
      "metadata": {
        "id": "60t0HJyQN_98"
      },
      "source": [
        "Afunction that takes a list a s an argumnt. calculate number of pos and neg nums from the list and display the count in terms of dictionary\n",
        "input : = [1,-2,-3,-4,5,6,7]\n",
        "out ={'pos':4,'neg':3}\n"
      ]
    },
    {
      "cell_type": "code",
      "metadata": {
        "colab": {
          "base_uri": "https://localhost:8080/"
        },
        "id": "SDXdQpiyOKep",
        "outputId": "ff6de581-ecbb-4719-9368-285d14d19f4e"
      },
      "source": [
        "def pos_n_neg(num_list):\n",
        "  count= {'pos': 0,'neg':0}\n",
        "  for i in num_list:\n",
        "    if i > 0:\n",
        "      count['pos'] = count['pos'] + 1\n",
        "    else:\n",
        "       count['neg'] = count['neg'] + 1\n",
        "  return(count)\n",
        "print(pos_n_neg([1,2,3,-4,-5,-6]))"
      ],
      "execution_count": null,
      "outputs": [
        {
          "output_type": "stream",
          "text": [
            "{'pos': 3, 'neg': 3}\n"
          ],
          "name": "stdout"
        }
      ]
    },
    {
      "cell_type": "markdown",
      "metadata": {
        "id": "0lGZT7TGWAme"
      },
      "source": [
        "writea func rand_lower_string() that takea an int and returna random string of that many lowercases letter\n",
        "\n",
        "ex :rand_lower_string(5)\n",
        "output : dghty"
      ]
    },
    {
      "cell_type": "code",
      "metadata": {
        "colab": {
          "base_uri": "https://localhost:8080/"
        },
        "id": "j8vh2TBvWV05",
        "outputId": "69584329-983b-403e-c56d-4b25e112ac63"
      },
      "source": [
        "from random import choice\n",
        "def rand_lower_string(n):\n",
        "  alphabets = 'abcdefghijklmnopqrstuvwxyz'\n",
        "  for i in range(1,n+1):\n",
        "    print(choice(alphabets),end='')\n",
        "rand_lower_string(5)\n"
      ],
      "execution_count": null,
      "outputs": [
        {
          "output_type": "stream",
          "text": [
            "nlnmr"
          ],
          "name": "stdout"
        }
      ]
    },
    {
      "cell_type": "markdown",
      "metadata": {
        "id": "3oGk71NVXaKz"
      },
      "source": [
        "write a python function that accepts a string and calculate the number of upper case and lower letters"
      ]
    },
    {
      "cell_type": "code",
      "metadata": {
        "colab": {
          "base_uri": "https://localhost:8080/"
        },
        "id": "ojlmuv72Xiu7",
        "outputId": "57904b36-6a1f-4491-ba19-a56052d1efcc"
      },
      "source": [
        "def upper_n_lower(s):\n",
        "  count = {'upper':0,'lower':0}\n",
        "  for i in s:\n",
        "    if i.isupper():\n",
        "      count['upper'] = count['upper'] + 1\n",
        "    else:\n",
        "      count['lower'] = count['lower'] + 1\n",
        "  return count\n",
        "upper_n_lower(\"ASDFghjk\")"
      ],
      "execution_count": null,
      "outputs": [
        {
          "output_type": "execute_result",
          "data": {
            "text/plain": [
              "{'lower': 4, 'upper': 4}"
            ]
          },
          "metadata": {
            "tags": []
          },
          "execution_count": 30
        }
      ]
    },
    {
      "cell_type": "code",
      "metadata": {
        "colab": {
          "base_uri": "https://localhost:8080/"
        },
        "id": "EeQU7hdNYHSn",
        "outputId": "c64bff14-f906-43dc-e47d-0eeb801a6157"
      },
      "source": [
        "from random import choice\n",
        "\n",
        "def rand_lower_string(n):\n",
        "  return ''.join(choice('abcdefghijklmnopqrstuvwxyz') for i in range(n))\n",
        "\n",
        "print(rand_lower_string(6))"
      ],
      "execution_count": null,
      "outputs": [
        {
          "output_type": "stream",
          "text": [
            "hnubux\n"
          ],
          "name": "stdout"
        }
      ]
    },
    {
      "cell_type": "code",
      "metadata": {
        "colab": {
          "base_uri": "https://localhost:8080/",
          "height": 35
        },
        "id": "Mue99s7md8IW",
        "outputId": "55d68b37-80e6-443f-8d7a-06bfdd4f9516"
      },
      "source": [
        "str1 = 'parvathy'\n",
        "str1.replace('y','i')"
      ],
      "execution_count": null,
      "outputs": [
        {
          "output_type": "execute_result",
          "data": {
            "application/vnd.google.colaboratory.intrinsic+json": {
              "type": "string"
            },
            "text/plain": [
              "'parvathy'"
            ]
          },
          "metadata": {
            "tags": []
          },
          "execution_count": 34
        }
      ]
    },
    {
      "cell_type": "markdown",
      "metadata": {
        "id": "SXDdf6yVeOAz"
      },
      "source": [
        "write a function simplify_text() that is given a string and converts the string to all lowercase, removes all common punctuation except for hyphens and apostrophes and return the new string"
      ]
    },
    {
      "cell_type": "code",
      "metadata": {
        "colab": {
          "base_uri": "https://localhost:8080/",
          "height": 35
        },
        "id": "Aq27UkujeNT2",
        "outputId": "f8cb99da-dba6-4afa-b63d-d031a5aaab9c"
      },
      "source": [
        "def simplify_text(s):\n",
        "  str1 = ''\n",
        "  for i in s:\n",
        "    if not i.isalpha() or i=='!'\n",
        "        str1 = str1 + i\n",
        "    else:\n",
        "      s.replace(i,' ')\n",
        "  return(s)\n",
        "simplify_text(\"#asdF-l'\")"
      ],
      "execution_count": null,
      "outputs": [
        {
          "output_type": "execute_result",
          "data": {
            "application/vnd.google.colaboratory.intrinsic+json": {
              "type": "string"
            },
            "text/plain": [
              "\"#asdF-l'\""
            ]
          },
          "metadata": {
            "tags": []
          },
          "execution_count": 45
        }
      ]
    },
    {
      "cell_type": "code",
      "metadata": {
        "id": "X0vVmN1XjPZX"
      },
      "source": [
        "NITUL\n",
        "def simplify(s):\n",
        "    str=\"\"\n",
        "    s=s.lower()\n",
        "    for i in s:\n",
        "        if i.isalpha() or i=='!':\n",
        "            str+=i\n",
        "    return str\n",
        "en=input(\"Enter string :\")\n",
        "print(simplify(en))"
      ],
      "execution_count": null,
      "outputs": []
    },
    {
      "cell_type": "markdown",
      "metadata": {
        "id": "vNJhfkWRgDLJ"
      },
      "source": [
        "write a function to check if a number is perfect number or not\n",
        "write a python function to check whether a number is perfect number or not.\n",
        "perfect number : a positve integer that is equal to the sum of its proper positve divisors.\n",
        "ex: 6 factors :sum(1,2,3) = 6\n",
        "ex: 28 factors: sum(1,2,4,7,14)=28\n"
      ]
    },
    {
      "cell_type": "code",
      "metadata": {
        "colab": {
          "base_uri": "https://localhost:8080/"
        },
        "id": "IfCzpVjYgKCq",
        "outputId": "78b71b0f-9a14-4526-a185-d872575db7bd"
      },
      "source": [
        "def isPerfect(n):\n",
        "  s = 0\n",
        "  for i in range(1,n):\n",
        "    if n%i == 0:\n",
        "      s = s + i\n",
        "  if s == n:\n",
        "    print(\"Perfect\")\n",
        "  else:\n",
        "    print(\"Not perfect\")\n",
        "\n",
        "isPerfect(8)"
      ],
      "execution_count": null,
      "outputs": [
        {
          "output_type": "stream",
          "text": [
            "Not perfect\n"
          ],
          "name": "stdout"
        }
      ]
    },
    {
      "cell_type": "markdown",
      "metadata": {
        "id": "fHk57Uh8hf2i"
      },
      "source": [
        "func that takes list and rets anew list with unique elements of first list"
      ]
    },
    {
      "cell_type": "code",
      "metadata": {
        "colab": {
          "base_uri": "https://localhost:8080/"
        },
        "id": "ovqROnc4hnja",
        "outputId": "f464d9c1-954a-465b-dced-4d04722b9fd5"
      },
      "source": [
        "def unique(my_list):\n",
        "  s = []\n",
        "  for i in my_list:\n",
        "    if i not in s:\n",
        "      s.append(i)\n",
        "  return(s)\n",
        "unique([1,1,2,3])\n"
      ],
      "execution_count": null,
      "outputs": [
        {
          "output_type": "execute_result",
          "data": {
            "text/plain": [
              "[1, 2, 3]"
            ]
          },
          "metadata": {
            "tags": []
          },
          "execution_count": 46
        }
      ]
    },
    {
      "cell_type": "markdown",
      "metadata": {
        "id": "d6nIi7L3j0SU"
      },
      "source": [
        "func called integer_length(), that takes a list of integers and returns all thier lengths\n",
        "\n",
        "Ex: [2,44,532,344,22]\n",
        "1+2+3+3+2 = 14"
      ]
    },
    {
      "cell_type": "code",
      "metadata": {
        "colab": {
          "base_uri": "https://localhost:8080/"
        },
        "id": "Z9qB9fcyj0vt",
        "outputId": "3705a9c2-4cee-4412-f583-e2c7a7d87b92"
      },
      "source": [
        "def integer_length(ints):\n",
        "  length = 0\n",
        "  for i in ints:\n",
        "    length = length + len(str(i))\n",
        "  return(length)\n",
        "integer_length([2,44,532,344,22])\n"
      ],
      "execution_count": null,
      "outputs": [
        {
          "output_type": "execute_result",
          "data": {
            "text/plain": [
              "11"
            ]
          },
          "metadata": {
            "tags": []
          },
          "execution_count": 50
        }
      ]
    },
    {
      "cell_type": "markdown",
      "metadata": {
        "id": "ml3nQEm4k89f"
      },
      "source": [
        "closest(): givena list of integers n, find thing in list closest to n, return smaller one in case of a tie\n",
        "\n",
        "ex:closest([1,2,11,6,9],4) output: 2"
      ]
    },
    {
      "cell_type": "code",
      "metadata": {
        "colab": {
          "base_uri": "https://localhost:8080/",
          "height": 288
        },
        "id": "WCs-62-Zk9ii",
        "outputId": "e65af9b4-e8b1-4219-9466-f6dab3b7ad28"
      },
      "source": [
        "def closest(in_list,n):\n",
        "  s = 0\n",
        "  for i in in_list:\n",
        "    m = abs(i - n)\n",
        "    if m < s:\n",
        "      closest_one = i\n",
        "    else:\n",
        "      closest_one = \n",
        "  return(closest_one)\n",
        "closest([1,2,3,11,15,20],19)"
      ],
      "execution_count": null,
      "outputs": [
        {
          "output_type": "error",
          "ename": "UnboundLocalError",
          "evalue": "ignored",
          "traceback": [
            "\u001b[0;31m---------------------------------------------------------------------------\u001b[0m",
            "\u001b[0;31mUnboundLocalError\u001b[0m                         Traceback (most recent call last)",
            "\u001b[0;32m<ipython-input-57-833049013e21>\u001b[0m in \u001b[0;36m<module>\u001b[0;34m()\u001b[0m\n\u001b[1;32m      6\u001b[0m       \u001b[0mclosest_one\u001b[0m \u001b[0;34m=\u001b[0m \u001b[0mi\u001b[0m\u001b[0;34m\u001b[0m\u001b[0;34m\u001b[0m\u001b[0m\n\u001b[1;32m      7\u001b[0m   \u001b[0;32mreturn\u001b[0m\u001b[0;34m(\u001b[0m\u001b[0mclosest_one\u001b[0m\u001b[0;34m)\u001b[0m\u001b[0;34m\u001b[0m\u001b[0;34m\u001b[0m\u001b[0m\n\u001b[0;32m----> 8\u001b[0;31m \u001b[0mclosest\u001b[0m\u001b[0;34m(\u001b[0m\u001b[0;34m[\u001b[0m\u001b[0;36m1\u001b[0m\u001b[0;34m,\u001b[0m\u001b[0;36m2\u001b[0m\u001b[0;34m,\u001b[0m\u001b[0;36m3\u001b[0m\u001b[0;34m,\u001b[0m\u001b[0;36m11\u001b[0m\u001b[0;34m,\u001b[0m\u001b[0;36m15\u001b[0m\u001b[0;34m,\u001b[0m\u001b[0;36m20\u001b[0m\u001b[0;34m]\u001b[0m\u001b[0;34m,\u001b[0m\u001b[0;36m19\u001b[0m\u001b[0;34m)\u001b[0m\u001b[0;34m\u001b[0m\u001b[0;34m\u001b[0m\u001b[0m\n\u001b[0m",
            "\u001b[0;32m<ipython-input-57-833049013e21>\u001b[0m in \u001b[0;36mclosest\u001b[0;34m(in_list, n)\u001b[0m\n\u001b[1;32m      5\u001b[0m     \u001b[0;32mif\u001b[0m \u001b[0mm\u001b[0m \u001b[0;34m<\u001b[0m \u001b[0ms\u001b[0m\u001b[0;34m:\u001b[0m\u001b[0;34m\u001b[0m\u001b[0;34m\u001b[0m\u001b[0m\n\u001b[1;32m      6\u001b[0m       \u001b[0mclosest_one\u001b[0m \u001b[0;34m=\u001b[0m \u001b[0mi\u001b[0m\u001b[0;34m\u001b[0m\u001b[0;34m\u001b[0m\u001b[0m\n\u001b[0;32m----> 7\u001b[0;31m   \u001b[0;32mreturn\u001b[0m\u001b[0;34m(\u001b[0m\u001b[0mclosest_one\u001b[0m\u001b[0;34m)\u001b[0m\u001b[0;34m\u001b[0m\u001b[0;34m\u001b[0m\u001b[0m\n\u001b[0m\u001b[1;32m      8\u001b[0m \u001b[0mclosest\u001b[0m\u001b[0;34m(\u001b[0m\u001b[0;34m[\u001b[0m\u001b[0;36m1\u001b[0m\u001b[0;34m,\u001b[0m\u001b[0;36m2\u001b[0m\u001b[0;34m,\u001b[0m\u001b[0;36m3\u001b[0m\u001b[0;34m,\u001b[0m\u001b[0;36m11\u001b[0m\u001b[0;34m,\u001b[0m\u001b[0;36m15\u001b[0m\u001b[0;34m,\u001b[0m\u001b[0;36m20\u001b[0m\u001b[0;34m]\u001b[0m\u001b[0;34m,\u001b[0m\u001b[0;36m19\u001b[0m\u001b[0;34m)\u001b[0m\u001b[0;34m\u001b[0m\u001b[0;34m\u001b[0m\u001b[0m\n",
            "\u001b[0;31mUnboundLocalError\u001b[0m: local variable 'closest_one' referenced before assignment"
          ]
        }
      ]
    },
    {
      "cell_type": "code",
      "metadata": {
        "colab": {
          "base_uri": "https://localhost:8080/"
        },
        "id": "OBB5LEy5os3g",
        "outputId": "f0afa02c-ff07-4098-d412-b324f67f42d2"
      },
      "source": [
        "def closest(l, n):\n",
        "  d = abs(n - l[0])\n",
        "  x = 0\n",
        "  for i in l:\n",
        "    if d > abs(n - i):\n",
        "      d = abs(n - i)\n",
        "      x = i\n",
        "    elif d == abs(n - i):\n",
        "      if x > i:\n",
        "        x = i\n",
        "    \n",
        "  return x\n",
        "\n",
        "print(closest([1, 6, 2, 19, 11], 15))\n",
        "    "
      ],
      "execution_count": null,
      "outputs": [
        {
          "output_type": "stream",
          "text": [
            "11\n"
          ],
          "name": "stdout"
        }
      ]
    },
    {
      "cell_type": "markdown",
      "metadata": {
        "id": "y_i8rqNEl71c"
      },
      "source": [
        "union() that takes 2 lists and return the union of 2 without repetition"
      ]
    },
    {
      "cell_type": "code",
      "metadata": {
        "colab": {
          "base_uri": "https://localhost:8080/"
        },
        "id": "RHSRNXwCma1V",
        "outputId": "7db95915-cd97-4c32-aa52-cb004159b477"
      },
      "source": [
        "def union(list1,list2):\n",
        "  un = []\n",
        "  for i in (list1 + list2):\n",
        "    if i not in un:\n",
        "      un.append(i)\n",
        "  return(un)\n",
        "union([1,2,3],[3,3,5])"
      ],
      "execution_count": null,
      "outputs": [
        {
          "output_type": "execute_result",
          "data": {
            "text/plain": [
              "[1, 2, 3, 5]"
            ]
          },
          "metadata": {
            "tags": []
          },
          "execution_count": 55
        }
      ]
    },
    {
      "cell_type": "code",
      "metadata": {
        "colab": {
          "base_uri": "https://localhost:8080/"
        },
        "id": "0BDN0oVanQ01",
        "outputId": "1f255252-31cb-48c3-ea91-b48b78cc97e1"
      },
      "source": [
        "#intersection\n",
        "\n",
        "def intersection(list1,list2):\n",
        "  inter = []\n",
        "  for i in list1:\n",
        "    if i in list2:\n",
        "      inter.append(i)\n",
        "  return(inter)\n",
        "\n",
        "print(intersection([1,2,3,4],[2,4,8,9]))"
      ],
      "execution_count": null,
      "outputs": [
        {
          "output_type": "stream",
          "text": [
            "[2, 4]\n"
          ],
          "name": "stdout"
        }
      ]
    },
    {
      "cell_type": "markdown",
      "metadata": {
        "id": "YcTZ9w1aE3lP"
      },
      "source": [
        "program2: write a function triangular(), that takes an integer n and return the nth triangular number. The nth triangular number is given by the formula n(n+1)/2."
      ]
    },
    {
      "cell_type": "code",
      "metadata": {
        "colab": {
          "base_uri": "https://localhost:8080/"
        },
        "id": "Gjy9PhjEE3lQ",
        "outputId": "a07fed85-b42c-4ac6-dd33-94bc7ab05347"
      },
      "source": [
        "def triangular(n):\n",
        "  n_triangular = n * (n+1)/2\n",
        "  return(n_triangular)\n",
        "print(triangular(3))"
      ],
      "execution_count": null,
      "outputs": [
        {
          "output_type": "stream",
          "text": [
            "6.0\n"
          ],
          "name": "stdout"
        }
      ]
    },
    {
      "cell_type": "markdown",
      "metadata": {
        "id": "UVEs6y_kE3lQ"
      },
      "source": [
        "3)"
      ]
    },
    {
      "cell_type": "markdown",
      "metadata": {
        "id": "2NKIAfQNE3lQ"
      },
      "source": [
        "program3: write a function get_total_bill(), that takes a bill amount and sales tax percentage and return the total bill amount, rounded to two decimal points."
      ]
    },
    {
      "cell_type": "code",
      "metadata": {
        "colab": {
          "base_uri": "https://localhost:8080/"
        },
        "id": "s_Vcp3JCE3lQ",
        "outputId": "9ab0bb4b-4225-4945-ec40-d27c0a544081"
      },
      "source": [
        "def get_total_bill(bill_amt,sales_tax_percent):\n",
        "  total_bill = round((bill_amt * (1 + sales_tax_percent/100)),2)\n",
        "  print(\"Total bill amount = \",total_bill)\n",
        "bill = float(input(\"Enter bill amount: \"))\n",
        "tax = float(input(\"Enter sales tax percentage: \"))\n",
        "get_total_bill(bill,tax)"
      ],
      "execution_count": null,
      "outputs": [
        {
          "output_type": "stream",
          "text": [
            "Enter bill amount: 500\n",
            "Enter sales tax percentage: 23.0036\n",
            "Total bill amount =  615.02\n"
          ],
          "name": "stdout"
        }
      ]
    },
    {
      "cell_type": "markdown",
      "metadata": {
        "id": "eGFWJHEWE3lQ"
      },
      "source": [
        "program4: write a fucntion distance that takes four numbers x1,y1, x2,y2 and returns distance between (x1,y1) and (x2,y2)"
      ]
    },
    {
      "cell_type": "code",
      "metadata": {
        "colab": {
          "base_uri": "https://localhost:8080/"
        },
        "id": "xrzg01BzE3lR",
        "outputId": "ee618233-82ae-495c-a9f4-031b874f56b3"
      },
      "source": [
        "def distance(x1,y1,x2,y2):\n",
        "  dist_1 = (x1 + y1)**(0.5)\n",
        "  dist_2 = (x2 + y2)**(0.5)\n",
        "  return((dist_1,dist_1))\n",
        "x1 = float(input(\"enter point x1: \"))\n",
        "y1 = float(input(\"enter point y1: \"))\n",
        "x2 = float(input(\"enter point x2: \"))\n",
        "y2 = float(input(\"enter point y2: \"))\n",
        "print(\"Diatance 1 = \",distance(x1,y1,x2,y2)[0])\n",
        "print(\"Diatance 2 = \",distance(x1,y1,x2,y2)[1])"
      ],
      "execution_count": null,
      "outputs": [
        {
          "output_type": "stream",
          "text": [
            "enter point x1: 1\n",
            "enter point y1: 2\n",
            "enter point x2: 3\n",
            "enter point y2: 4\n",
            "Diatance 1 =  1.7320508075688772\n",
            "Diatance 2 =  1.7320508075688772\n"
          ],
          "name": "stdout"
        }
      ]
    },
    {
      "cell_type": "markdown",
      "metadata": {
        "id": "N9bfjfW8E3lR"
      },
      "source": [
        "#Program5) Perfect square: takes an integer and prints squares from 1 to that number. It should not return anything"
      ]
    },
    {
      "cell_type": "code",
      "metadata": {
        "id": "_lhViJsSE3lR"
      },
      "source": [
        ""
      ],
      "execution_count": null,
      "outputs": []
    },
    {
      "cell_type": "markdown",
      "metadata": {
        "id": "UZdva7FzE3lR"
      },
      "source": [
        "Program6) Write a function that takes a starting number, ending number and step and adds up all the integers in that range. \n",
        "Ex : add_up(2,6,1) result 14 ; pr = "
      ]
    },
    {
      "cell_type": "code",
      "metadata": {
        "colab": {
          "base_uri": "https://localhost:8080/"
        },
        "id": "1SxljJonE3lR",
        "outputId": "f979e205-3cb0-4c5b-ef64-2b0c1d9cdd37"
      },
      "source": [
        "def add_up(start,end,step):\n",
        "  sum = 0\n",
        "  for i in range(start,end,step):\n",
        "    sum = sum + i\n",
        "  print(sum)\n",
        "add_up(1,5,1)"
      ],
      "execution_count": null,
      "outputs": [
        {
          "output_type": "stream",
          "text": [
            "10\n"
          ],
          "name": "stdout"
        }
      ]
    },
    {
      "cell_type": "markdown",
      "metadata": {
        "id": "3U-4jnv_E3lR"
      },
      "source": [
        "Program 7 )Write a python funciony of characters contained in hist(), that takes string value as parameter and generates a frquency of characters contained in it.\n",
        "ex: hist('parvathy') output: {'p':1,'a':2,'r':1,'v':1,'t':1,'h':1,'y':1"
      ]
    },
    {
      "cell_type": "code",
      "metadata": {
        "colab": {
          "base_uri": "https://localhost:8080/"
        },
        "id": "_UpywmTME3lS",
        "outputId": "73de6c0a-d7ce-4773-93af-e88e4f7815b4"
      },
      "source": [
        "def hist(input_string):\n",
        "  freq = {}\n",
        "  for char in input_string:\n",
        "    if char not in freq:\n",
        "      freq[char] = 1\n",
        "    else:\n",
        "      freq[char] = freq[char] + 1\n",
        "  print(freq)\n",
        "hist('parvathy')\n"
      ],
      "execution_count": null,
      "outputs": [
        {
          "output_type": "stream",
          "text": [
            "{'p': 1, 'a': 2, 'r': 1, 'v': 1, 't': 1, 'h': 1, 'y': 1}\n"
          ],
          "name": "stdout"
        }
      ]
    },
    {
      "cell_type": "markdown",
      "metadata": {
        "id": "_3B75mLgE3lS"
      },
      "source": [
        ""
      ]
    },
    {
      "cell_type": "code",
      "metadata": {
        "colab": {
          "base_uri": "https://localhost:8080/"
        },
        "id": "IlrCaE4iE3lS",
        "outputId": "bc68cafc-430b-42e7-fecb-3299ede6e142"
      },
      "source": [
        "def sq_of_nums(n):\n",
        "   sq = {}\n",
        "   for i  in range(n+1):\n",
        "     sq[i] = i**2\n",
        "   print(sq)\n",
        "sq_of_nums(3)"
      ],
      "execution_count": null,
      "outputs": [
        {
          "output_type": "stream",
          "text": [
            "{0: 0, 1: 1, 2: 4, 3: 9}\n"
          ],
          "name": "stdout"
        }
      ]
    },
    {
      "cell_type": "markdown",
      "metadata": {
        "id": "_hdU-whfE3lS"
      },
      "source": [
        "Afunction that takes a list a s an argumnt. calculate number of pos and neg nums from the list and display the count in terms of dictionary\n",
        "input : = [1,-2,-3,-4,5,6,7]\n",
        "out ={'pos':4,'neg':3}\n"
      ]
    },
    {
      "cell_type": "code",
      "metadata": {
        "colab": {
          "base_uri": "https://localhost:8080/"
        },
        "id": "g4GAXmqGE3lS",
        "outputId": "ff6de581-ecbb-4719-9368-285d14d19f4e"
      },
      "source": [
        "def pos_n_neg(num_list):\n",
        "  count= {'pos': 0,'neg':0}\n",
        "  for i in num_list:\n",
        "    if i > 0:\n",
        "      count['pos'] = count['pos'] + 1\n",
        "    else:\n",
        "       count['neg'] = count['neg'] + 1\n",
        "  return(count)\n",
        "print(pos_n_neg([1,2,3,-4,-5,-6]))"
      ],
      "execution_count": null,
      "outputs": [
        {
          "output_type": "stream",
          "text": [
            "{'pos': 3, 'neg': 3}\n"
          ],
          "name": "stdout"
        }
      ]
    },
    {
      "cell_type": "markdown",
      "metadata": {
        "id": "HyzU5nGOE3lT"
      },
      "source": [
        "writea func rand_lower_string() that takea an int and returna random string of that many lowercases letter\n",
        "\n",
        "ex :rand_lower_string(5)\n",
        "output : dghty"
      ]
    },
    {
      "cell_type": "code",
      "metadata": {
        "colab": {
          "base_uri": "https://localhost:8080/"
        },
        "id": "BlWTkWAaE3lT",
        "outputId": "69584329-983b-403e-c56d-4b25e112ac63"
      },
      "source": [
        "from random import choice\n",
        "def rand_lower_string(n):\n",
        "  alphabets = 'abcdefghijklmnopqrstuvwxyz'\n",
        "  for i in range(1,n+1):\n",
        "    print(choice(alphabets),end='')\n",
        "rand_lower_string(5)\n"
      ],
      "execution_count": null,
      "outputs": [
        {
          "output_type": "stream",
          "text": [
            "nlnmr"
          ],
          "name": "stdout"
        }
      ]
    },
    {
      "cell_type": "markdown",
      "metadata": {
        "id": "pO-2FCcaE3lU"
      },
      "source": [
        "write a python function that accepts a string and calculate the number of upper case and lower letters"
      ]
    },
    {
      "cell_type": "code",
      "metadata": {
        "colab": {
          "base_uri": "https://localhost:8080/"
        },
        "id": "XcYEZpD-E3lU",
        "outputId": "57904b36-6a1f-4491-ba19-a56052d1efcc"
      },
      "source": [
        "def upper_n_lower(s):\n",
        "  count = {'upper':0,'lower':0}\n",
        "  for i in s:\n",
        "    if i.isupper():\n",
        "      count['upper'] = count['upper'] + 1\n",
        "    else:\n",
        "      count['lower'] = count['lower'] + 1\n",
        "  return count\n",
        "upper_n_lower(\"ASDFghjk\")"
      ],
      "execution_count": null,
      "outputs": [
        {
          "output_type": "execute_result",
          "data": {
            "text/plain": [
              "{'lower': 4, 'upper': 4}"
            ]
          },
          "metadata": {
            "tags": []
          },
          "execution_count": 30
        }
      ]
    },
    {
      "cell_type": "code",
      "metadata": {
        "colab": {
          "base_uri": "https://localhost:8080/"
        },
        "id": "WhCJ5PNzE3lU",
        "outputId": "c64bff14-f906-43dc-e47d-0eeb801a6157"
      },
      "source": [
        "from random import choice\n",
        "\n",
        "def rand_lower_string(n):\n",
        "  return ''.join(choice('abcdefghijklmnopqrstuvwxyz') for i in range(n))\n",
        "\n",
        "print(rand_lower_string(6))"
      ],
      "execution_count": null,
      "outputs": [
        {
          "output_type": "stream",
          "text": [
            "hnubux\n"
          ],
          "name": "stdout"
        }
      ]
    },
    {
      "cell_type": "code",
      "metadata": {
        "colab": {
          "base_uri": "https://localhost:8080/",
          "height": 35
        },
        "id": "QaxE4BJlE3lV",
        "outputId": "55d68b37-80e6-443f-8d7a-06bfdd4f9516"
      },
      "source": [
        "str1 = 'parvathy'\n",
        "str1.replace('y','i')"
      ],
      "execution_count": null,
      "outputs": [
        {
          "output_type": "execute_result",
          "data": {
            "application/vnd.google.colaboratory.intrinsic+json": {
              "type": "string"
            },
            "text/plain": [
              "'parvathy'"
            ]
          },
          "metadata": {
            "tags": []
          },
          "execution_count": 34
        }
      ]
    },
    {
      "cell_type": "markdown",
      "metadata": {
        "id": "uojbxjaVE3lV"
      },
      "source": [
        "write a function simplify_text() that is given a string and converts the string to all lowercase, removes all common punctuation except for hyphens and apostrophes and return the new string"
      ]
    },
    {
      "cell_type": "code",
      "metadata": {
        "colab": {
          "base_uri": "https://localhost:8080/",
          "height": 35
        },
        "id": "gpUPYQ4LE3lV",
        "outputId": "f8cb99da-dba6-4afa-b63d-d031a5aaab9c"
      },
      "source": [
        "def simplify_text(s):\n",
        "  str1 = ''\n",
        "  for i in s:\n",
        "    if not i.isalpha() or i=='!'\n",
        "        str1 = str1 + i\n",
        "    else:\n",
        "      s.replace(i,' ')\n",
        "  return(s)\n",
        "simplify_text(\"#asdF-l'\")"
      ],
      "execution_count": null,
      "outputs": [
        {
          "output_type": "execute_result",
          "data": {
            "application/vnd.google.colaboratory.intrinsic+json": {
              "type": "string"
            },
            "text/plain": [
              "\"#asdF-l'\""
            ]
          },
          "metadata": {
            "tags": []
          },
          "execution_count": 45
        }
      ]
    },
    {
      "cell_type": "code",
      "metadata": {
        "id": "D7yt8G-SE3lW"
      },
      "source": [
        "NITUL\n",
        "def simplify(s):\n",
        "    str=\"\"\n",
        "    s=s.lower()\n",
        "    for i in s:\n",
        "        if i.isalpha() or i=='!':\n",
        "            str+=i\n",
        "    return str\n",
        "en=input(\"Enter string :\")\n",
        "print(simplify(en))"
      ],
      "execution_count": null,
      "outputs": []
    },
    {
      "cell_type": "markdown",
      "metadata": {
        "id": "hJBZpG9TE3lW"
      },
      "source": [
        "write a function to check if a number is perfect number or not\n",
        "write a python function to check whether a number is perfect number or not.\n",
        "perfect number : a positve integer that is equal to the sum of its proper positve divisors.\n",
        "ex: 6 factors :sum(1,2,3) = 6\n",
        "ex: 28 factors: sum(1,2,4,7,14)=28\n"
      ]
    },
    {
      "cell_type": "code",
      "metadata": {
        "colab": {
          "base_uri": "https://localhost:8080/"
        },
        "id": "gTjZZRrZE3lW",
        "outputId": "78b71b0f-9a14-4526-a185-d872575db7bd"
      },
      "source": [
        "def isPerfect(n):\n",
        "  s = 0\n",
        "  for i in range(1,n):\n",
        "    if n%i == 0:\n",
        "      s = s + i\n",
        "  if s == n:\n",
        "    print(\"Perfect\")\n",
        "  else:\n",
        "    print(\"Not perfect\")\n",
        "\n",
        "isPerfect(8)"
      ],
      "execution_count": null,
      "outputs": [
        {
          "output_type": "stream",
          "text": [
            "Not perfect\n"
          ],
          "name": "stdout"
        }
      ]
    },
    {
      "cell_type": "markdown",
      "metadata": {
        "id": "jq1tz5BpE3lW"
      },
      "source": [
        "func that takes list and rets anew list with unique elements of first list"
      ]
    },
    {
      "cell_type": "code",
      "metadata": {
        "colab": {
          "base_uri": "https://localhost:8080/"
        },
        "id": "4lh22C27E3lW",
        "outputId": "f464d9c1-954a-465b-dced-4d04722b9fd5"
      },
      "source": [
        "def unique(my_list):\n",
        "  s = []\n",
        "  for i in my_list:\n",
        "    if i not in s:\n",
        "      s.append(i)\n",
        "  return(s)\n",
        "unique([1,1,2,3])\n"
      ],
      "execution_count": null,
      "outputs": [
        {
          "output_type": "execute_result",
          "data": {
            "text/plain": [
              "[1, 2, 3]"
            ]
          },
          "metadata": {
            "tags": []
          },
          "execution_count": 46
        }
      ]
    },
    {
      "cell_type": "markdown",
      "metadata": {
        "id": "o7bCJkwhE3lX"
      },
      "source": [
        "func called integer_length(), that takes a list of integers and returns all thier lengths\n",
        "\n",
        "Ex: [2,44,532,344,22]\n",
        "1+2+3+3+2 = 14"
      ]
    },
    {
      "cell_type": "code",
      "metadata": {
        "colab": {
          "base_uri": "https://localhost:8080/"
        },
        "id": "cOE_iX0oE3lX",
        "outputId": "3705a9c2-4cee-4412-f583-e2c7a7d87b92"
      },
      "source": [
        "def integer_length(ints):\n",
        "  length = 0\n",
        "  for i in ints:\n",
        "    length = length + len(str(i))\n",
        "  return(length)\n",
        "integer_length([2,44,532,344,22])\n"
      ],
      "execution_count": null,
      "outputs": [
        {
          "output_type": "execute_result",
          "data": {
            "text/plain": [
              "11"
            ]
          },
          "metadata": {
            "tags": []
          },
          "execution_count": 50
        }
      ]
    },
    {
      "cell_type": "markdown",
      "metadata": {
        "id": "djvO-Z-5E3lX"
      },
      "source": [
        "closest(): givena list of integers n, find thing in list closest to n, return smaller one in case of a tie\n",
        "\n",
        "ex:closest([1,2,11,6,9],4) output: 2"
      ]
    },
    {
      "cell_type": "code",
      "metadata": {
        "colab": {
          "base_uri": "https://localhost:8080/",
          "height": 288
        },
        "id": "iAnkQqF_E3lY",
        "outputId": "e65af9b4-e8b1-4219-9466-f6dab3b7ad28"
      },
      "source": [
        "def closest(in_list,n):\n",
        "  s = 0\n",
        "  for i in in_list:\n",
        "    m = abs(i - n)\n",
        "    if m < s:\n",
        "      closest_one = i\n",
        "    else:\n",
        "      closest_one = \n",
        "  return(closest_one)\n",
        "closest([1,2,3,11,15,20],19)"
      ],
      "execution_count": null,
      "outputs": [
        {
          "output_type": "error",
          "ename": "UnboundLocalError",
          "evalue": "ignored",
          "traceback": [
            "\u001b[0;31m---------------------------------------------------------------------------\u001b[0m",
            "\u001b[0;31mUnboundLocalError\u001b[0m                         Traceback (most recent call last)",
            "\u001b[0;32m<ipython-input-57-833049013e21>\u001b[0m in \u001b[0;36m<module>\u001b[0;34m()\u001b[0m\n\u001b[1;32m      6\u001b[0m       \u001b[0mclosest_one\u001b[0m \u001b[0;34m=\u001b[0m \u001b[0mi\u001b[0m\u001b[0;34m\u001b[0m\u001b[0;34m\u001b[0m\u001b[0m\n\u001b[1;32m      7\u001b[0m   \u001b[0;32mreturn\u001b[0m\u001b[0;34m(\u001b[0m\u001b[0mclosest_one\u001b[0m\u001b[0;34m)\u001b[0m\u001b[0;34m\u001b[0m\u001b[0;34m\u001b[0m\u001b[0m\n\u001b[0;32m----> 8\u001b[0;31m \u001b[0mclosest\u001b[0m\u001b[0;34m(\u001b[0m\u001b[0;34m[\u001b[0m\u001b[0;36m1\u001b[0m\u001b[0;34m,\u001b[0m\u001b[0;36m2\u001b[0m\u001b[0;34m,\u001b[0m\u001b[0;36m3\u001b[0m\u001b[0;34m,\u001b[0m\u001b[0;36m11\u001b[0m\u001b[0;34m,\u001b[0m\u001b[0;36m15\u001b[0m\u001b[0;34m,\u001b[0m\u001b[0;36m20\u001b[0m\u001b[0;34m]\u001b[0m\u001b[0;34m,\u001b[0m\u001b[0;36m19\u001b[0m\u001b[0;34m)\u001b[0m\u001b[0;34m\u001b[0m\u001b[0;34m\u001b[0m\u001b[0m\n\u001b[0m",
            "\u001b[0;32m<ipython-input-57-833049013e21>\u001b[0m in \u001b[0;36mclosest\u001b[0;34m(in_list, n)\u001b[0m\n\u001b[1;32m      5\u001b[0m     \u001b[0;32mif\u001b[0m \u001b[0mm\u001b[0m \u001b[0;34m<\u001b[0m \u001b[0ms\u001b[0m\u001b[0;34m:\u001b[0m\u001b[0;34m\u001b[0m\u001b[0;34m\u001b[0m\u001b[0m\n\u001b[1;32m      6\u001b[0m       \u001b[0mclosest_one\u001b[0m \u001b[0;34m=\u001b[0m \u001b[0mi\u001b[0m\u001b[0;34m\u001b[0m\u001b[0;34m\u001b[0m\u001b[0m\n\u001b[0;32m----> 7\u001b[0;31m   \u001b[0;32mreturn\u001b[0m\u001b[0;34m(\u001b[0m\u001b[0mclosest_one\u001b[0m\u001b[0;34m)\u001b[0m\u001b[0;34m\u001b[0m\u001b[0;34m\u001b[0m\u001b[0m\n\u001b[0m\u001b[1;32m      8\u001b[0m \u001b[0mclosest\u001b[0m\u001b[0;34m(\u001b[0m\u001b[0;34m[\u001b[0m\u001b[0;36m1\u001b[0m\u001b[0;34m,\u001b[0m\u001b[0;36m2\u001b[0m\u001b[0;34m,\u001b[0m\u001b[0;36m3\u001b[0m\u001b[0;34m,\u001b[0m\u001b[0;36m11\u001b[0m\u001b[0;34m,\u001b[0m\u001b[0;36m15\u001b[0m\u001b[0;34m,\u001b[0m\u001b[0;36m20\u001b[0m\u001b[0;34m]\u001b[0m\u001b[0;34m,\u001b[0m\u001b[0;36m19\u001b[0m\u001b[0;34m)\u001b[0m\u001b[0;34m\u001b[0m\u001b[0;34m\u001b[0m\u001b[0m\n",
            "\u001b[0;31mUnboundLocalError\u001b[0m: local variable 'closest_one' referenced before assignment"
          ]
        }
      ]
    },
    {
      "cell_type": "code",
      "metadata": {
        "colab": {
          "base_uri": "https://localhost:8080/"
        },
        "id": "b-zkfgMGE3lY",
        "outputId": "f0afa02c-ff07-4098-d412-b324f67f42d2"
      },
      "source": [
        "def closest(l, n):\n",
        "  d = abs(n - l[0])\n",
        "  x = 0\n",
        "  for i in l:\n",
        "    if d > abs(n - i):\n",
        "      d = abs(n - i)\n",
        "      x = i\n",
        "    elif d == abs(n - i):\n",
        "      if x > i:\n",
        "        x = i\n",
        "    \n",
        "  return x\n",
        "\n",
        "print(closest([1, 6, 2, 19, 11], 15))\n",
        "    "
      ],
      "execution_count": null,
      "outputs": [
        {
          "output_type": "stream",
          "text": [
            "11\n"
          ],
          "name": "stdout"
        }
      ]
    },
    {
      "cell_type": "markdown",
      "metadata": {
        "id": "BUBJah2sE3lY"
      },
      "source": [
        "union() that takes 2 lists and return the union of 2 without repetition"
      ]
    },
    {
      "cell_type": "code",
      "metadata": {
        "colab": {
          "base_uri": "https://localhost:8080/"
        },
        "id": "ZMOyKYzkE3lY",
        "outputId": "7db95915-cd97-4c32-aa52-cb004159b477"
      },
      "source": [
        "def union(list1,list2):\n",
        "  un = []\n",
        "  for i in (list1 + list2):\n",
        "    if i not in un:\n",
        "      un.append(i)\n",
        "  return(un)\n",
        "union([1,2,3],[3,3,5])"
      ],
      "execution_count": null,
      "outputs": [
        {
          "output_type": "execute_result",
          "data": {
            "text/plain": [
              "[1, 2, 3, 5]"
            ]
          },
          "metadata": {
            "tags": []
          },
          "execution_count": 55
        }
      ]
    },
    {
      "cell_type": "code",
      "metadata": {
        "colab": {
          "base_uri": "https://localhost:8080/"
        },
        "id": "u9FFZujtE3lY",
        "outputId": "1f255252-31cb-48c3-ea91-b48b78cc97e1"
      },
      "source": [
        "#intersection\n",
        "\n",
        "def intersection(list1,list2):\n",
        "  inter = []\n",
        "  for i in list1:\n",
        "    if i in list2:\n",
        "      inter.append(i)\n",
        "  return(inter)\n",
        "\n",
        "print(intersection([1,2,3,4],[2,4,8,9]))"
      ],
      "execution_count": null,
      "outputs": [
        {
          "output_type": "stream",
          "text": [
            "[2, 4]\n"
          ],
          "name": "stdout"
        }
      ]
    },
    {
      "cell_type": "code",
      "metadata": {
        "id": "TmGBDM42UnTV",
        "colab": {
          "base_uri": "https://localhost:8080/"
        },
        "outputId": "319e1fd9-3b66-472f-890b-02478fd95d68"
      },
      "source": [
        "\n",
        "    # defining the dictionary \n",
        "d = {'A' :[[1, 2, 3, 4, 5, 6, 7, 8, 9],[1],[123]],\n",
        "    'D' : [7, 8, 9, 6, 4] } \n",
        "  \n",
        "    # using list comprehension \n",
        "val = []\n",
        "val = d['A']\n",
        "print(len(val))\n",
        "\n",
        "    "
      ],
      "execution_count": null,
      "outputs": [
        {
          "output_type": "stream",
          "text": [
            "3\n"
          ],
          "name": "stdout"
        }
      ]
    },
    {
      "cell_type": "code",
      "metadata": {
        "id": "tIbUj8F7Usfx",
        "colab": {
          "base_uri": "https://localhost:8080/"
        },
        "outputId": "24ec50d1-cac9-4677-c2c5-debc64883baa"
      },
      "source": [
        "a = int(input(\"Enter age: \"))\n",
        "if (a<=17):\n",
        "    if (a<13) :\n",
        "        print(\"child\")\n",
        "    else :\n",
        "        print(\"Teen\")\n",
        "else:\n",
        "    print(\"Adult\")\n"
      ],
      "execution_count": null,
      "outputs": [
        {
          "output_type": "stream",
          "text": [
            "Enter age: 19\n",
            "Adult\n"
          ],
          "name": "stdout"
        }
      ]
    },
    {
      "cell_type": "code",
      "metadata": {
        "id": "ffKd95BNN5BG",
        "colab": {
          "base_uri": "https://localhost:8080/"
        },
        "outputId": "e256dc51-5571-4e45-cf9b-f98bcbe3e567"
      },
      "source": [
        "yr = int(input(\"Enter year: \"))\n",
        "if yr%400 == 0:\n",
        "  print(\"Leap year\")\n",
        "elif (yr%4 == 0) and (yr%100 != 0):\n",
        "  print(\"Leap year\")\n",
        "else:\n",
        "  print(\"Not leap year\")\n",
        "\n"
      ],
      "execution_count": null,
      "outputs": [
        {
          "output_type": "stream",
          "text": [
            "Enter year: 2013\n",
            "Not leap year\n"
          ],
          "name": "stdout"
        }
      ]
    },
    {
      "cell_type": "markdown",
      "metadata": {
        "id": "3JH3o12YUitA"
      },
      "source": [
        "Assign 1234.46 to n. Using number formatting, print it in the following formats: (a) 1234.46 (b) 1234.5 (c) 1234 (d) 1234.460 (e) 1.23446e+03 (f) 1e+03 (g) 1,234."
      ]
    },
    {
      "cell_type": "code",
      "metadata": {
        "id": "Abkhjut7UkKY",
        "colab": {
          "base_uri": "https://localhost:8080/"
        },
        "outputId": "e3eb266f-0018-4030-8526-181a557655ec"
      },
      "source": [
        "  n = 1234.46\n",
        "print(n)\n",
        "print(f\"{n:.1f}\")\n",
        "print(f\"{n:.0f}\")\n",
        "print(f\"{n:.3f}\")\n",
        "print(f\"{n:.5e}\")\n"
      ],
      "execution_count": null,
      "outputs": [
        {
          "output_type": "stream",
          "text": [
            "1234.46\n",
            "1234.5\n",
            "1234\n",
            "1234.460\n",
            "1.23446e+03\n"
          ],
          "name": "stdout"
        }
      ]
    },
    {
      "cell_type": "markdown",
      "metadata": {
        "id": "dLJmf72jghcp"
      },
      "source": [
        ""
      ]
    },
    {
      "cell_type": "code",
      "metadata": {
        "id": "Ip0wgOEIf_LT",
        "colab": {
          "base_uri": "https://localhost:8080/"
        },
        "outputId": "f6ea56e8-8ee5-49fc-f2d2-76654ebdc1c4"
      },
      "source": [
        "#Program to check if given number is positive or not\n",
        "n = float(input(\"Enter a number: \"))\n",
        "if n >= 0:\n",
        "  print(n,\"is positive\")\n",
        "else:\n",
        "  print(n,\"is negative\")\n"
      ],
      "execution_count": null,
      "outputs": [
        {
          "output_type": "stream",
          "text": [
            "Enter a number: 4\n",
            "4.0 is positive\n"
          ],
          "name": "stdout"
        }
      ]
    },
    {
      "cell_type": "code",
      "metadata": {
        "id": "H-rCUApUhBK9",
        "colab": {
          "base_uri": "https://localhost:8080/"
        },
        "outputId": "8e635f13-af91-466f-de42-ce0132365e2e"
      },
      "source": [
        "#Take in marks of 5 subjects and display the grade\n",
        "marks = list(map(float,input(\"Enter marks of 5 subjects seperated by space:\").strip().split()))[:5]\n",
        "total = sum(marks)\n",
        "percentage = (total/500)*100\n",
        "if percentage >=90:\n",
        "  print(\"Grade A\")\n",
        "elif percentage >=80:\n",
        "  print(\"Grade B\")\n",
        "elif percentage >= 70:\n",
        "  print(\"Grade C\")\n",
        "elif percentage >= 60:\n",
        "  print(\"Grade D\")\n",
        "elif percentage >= 50:\n",
        "  print(\"Grade E\")\n",
        "else:\n",
        "  print(\"Grade: F\")"
      ],
      "execution_count": null,
      "outputs": [
        {
          "output_type": "stream",
          "text": [
            "Enter marks of 5 subjects seperated by space:45 23 52 26 78\n",
            "Grade: F\n"
          ],
          "name": "stdout"
        }
      ]
    },
    {
      "cell_type": "code",
      "metadata": {
        "id": "tock-yt9hKsT",
        "colab": {
          "base_uri": "https://localhost:8080/"
        },
        "outputId": "028d6042-7a4d-4891-a436-30d873e43bdf"
      },
      "source": [
        "#Program to print all number in a range divisible by a number\n",
        "low = int(input(\"Enter lower range:\"))\n",
        "high = int(input(\"Enter higher range:\"))\n",
        "num = float(input(\"Enter the number:\"))\n",
        "my_list = list(range(low,high+1))\n",
        "for i in my_list:\n",
        "  if i%num == 0:\n",
        "    print(i)"
      ],
      "execution_count": null,
      "outputs": [
        {
          "output_type": "stream",
          "text": [
            "Enter lower range:23\n",
            "Enter higher range:56\n",
            "Enter the number:5\n",
            "25\n",
            "30\n",
            "35\n",
            "40\n",
            "45\n",
            "50\n",
            "55\n"
          ],
          "name": "stdout"
        }
      ]
    },
    {
      "cell_type": "code",
      "metadata": {
        "id": "4CCjGZxqhTHT",
        "colab": {
          "base_uri": "https://localhost:8080/"
        },
        "outputId": "f60acc16-4b0d-410f-c88f-ce65ca459190"
      },
      "source": [
        "#Program to print the quotient and remainder\n",
        "dividend = float(input(\"Enter dividend: \"))\n",
        "divisor = float(input(\"Enter divisor: \"))\n",
        "q = dividend//divisor\n",
        "rem = dividend%divisor\n",
        "print(\"Quotient is :\", q)\n",
        "print(\"Remainder is :\", rem)"
      ],
      "execution_count": null,
      "outputs": [
        {
          "output_type": "stream",
          "text": [
            "Enter dividend: 45\n",
            "Enter divisor: 65\n",
            "Quotient is : 0.0\n",
            "Remainder is : 45.0\n"
          ],
          "name": "stdout"
        }
      ]
    },
    {
      "cell_type": "code",
      "metadata": {
        "id": "jsghkC4RhbgX",
        "colab": {
          "base_uri": "https://localhost:8080/"
        },
        "outputId": "02001b95-cdae-4c34-c3ca-bfd68ea4184f"
      },
      "source": [
        "#Program to print all combinations of a three digits\n",
        "d1 = int(input(\"Enter 1st digit:\"))\n",
        "d2 = int(input(\"Enter 2nd digit:\"))\n",
        "d3 = int(input(\"Enter 3rd digit:\"))\n",
        "print(d1,d2,d3)\n",
        "print(d1,d3,d2)\n",
        "print(d2,d1,d3)\n",
        "print(d2,d3,d1)\n",
        "print(d3,d1,d2)\n",
        "print(d3,d2,d1)"
      ],
      "execution_count": null,
      "outputs": [
        {
          "output_type": "stream",
          "text": [
            "Enter 1st digit:5\n",
            "Enter 2nd digit:4\n",
            "Enter 3rd digit:2\n",
            "5 4 2\n",
            "5 2 4\n",
            "4 5 2\n",
            "4 2 5\n",
            "2 5 4\n",
            "2 4 5\n"
          ],
          "name": "stdout"
        }
      ]
    },
    {
      "cell_type": "code",
      "metadata": {
        "colab": {
          "base_uri": "https://localhost:8080/"
        },
        "id": "UUHSCvzEvr_O",
        "outputId": "b85c8cb0-7c11-4e18-a198-4f730c403344"
      },
      "source": [
        "w =['a','bee','solo','sea','duo','trio']\n",
        "w.sort()\n",
        "print(w)"
      ],
      "execution_count": null,
      "outputs": [
        {
          "output_type": "stream",
          "text": [
            "['a', 'bee', 'duo', 'sea', 'solo', 'trio']\n"
          ],
          "name": "stdout"
        }
      ]
    },
    {
      "cell_type": "code",
      "metadata": {
        "colab": {
          "base_uri": "https://localhost:8080/"
        },
        "id": "MhffccZK0GSU",
        "outputId": "a45e5d71-aaf1-4b06-ac8d-bf576f294923"
      },
      "source": [
        "w = [-5,0,3,8,0.1]\n",
        "w.sort()\n",
        "print(w)"
      ],
      "execution_count": null,
      "outputs": [
        {
          "output_type": "stream",
          "text": [
            "[-5, 0, 0.1, 3, 8]\n"
          ],
          "name": "stdout"
        }
      ]
    },
    {
      "cell_type": "code",
      "metadata": {
        "colab": {
          "base_uri": "https://localhost:8080/",
          "height": 197
        },
        "id": "HJME8IJv060D",
        "outputId": "bd9c08dc-0a62-4f4f-ba0e-548c76820e99"
      },
      "source": [
        "w = [0,'a',3,8,0.1]\n",
        "w.sort()\n",
        "print(w)"
      ],
      "execution_count": null,
      "outputs": [
        {
          "output_type": "error",
          "ename": "TypeError",
          "evalue": "ignored",
          "traceback": [
            "\u001b[0;31m---------------------------------------------------------------------------\u001b[0m",
            "\u001b[0;31mTypeError\u001b[0m                                 Traceback (most recent call last)",
            "\u001b[0;32m<ipython-input-8-f273a5bb0413>\u001b[0m in \u001b[0;36m<module>\u001b[0;34m()\u001b[0m\n\u001b[1;32m      1\u001b[0m \u001b[0mw\u001b[0m \u001b[0;34m=\u001b[0m \u001b[0;34m[\u001b[0m\u001b[0;36m0\u001b[0m\u001b[0;34m,\u001b[0m\u001b[0;34m'a'\u001b[0m\u001b[0;34m,\u001b[0m\u001b[0;36m3\u001b[0m\u001b[0;34m,\u001b[0m\u001b[0;36m8\u001b[0m\u001b[0;34m,\u001b[0m\u001b[0;36m0.1\u001b[0m\u001b[0;34m]\u001b[0m\u001b[0;34m\u001b[0m\u001b[0;34m\u001b[0m\u001b[0m\n\u001b[0;32m----> 2\u001b[0;31m \u001b[0mw\u001b[0m\u001b[0;34m.\u001b[0m\u001b[0msort\u001b[0m\u001b[0;34m(\u001b[0m\u001b[0;34m)\u001b[0m\u001b[0;34m\u001b[0m\u001b[0;34m\u001b[0m\u001b[0m\n\u001b[0m\u001b[1;32m      3\u001b[0m \u001b[0mprint\u001b[0m\u001b[0;34m(\u001b[0m\u001b[0mw\u001b[0m\u001b[0;34m)\u001b[0m\u001b[0;34m\u001b[0m\u001b[0;34m\u001b[0m\u001b[0m\n",
            "\u001b[0;31mTypeError\u001b[0m: '<' not supported between instances of 'str' and 'int'"
          ]
        }
      ]
    },
    {
      "cell_type": "code",
      "metadata": {
        "colab": {
          "base_uri": "https://localhost:8080/"
        },
        "id": "NzxzFh6D1Cuw",
        "outputId": "965fec2d-7d95-454e-96d2-2bf9809f9048"
      },
      "source": [
        "w = [7,9]\n",
        "w.extend(['2nd'])\n",
        "print(w)"
      ],
      "execution_count": null,
      "outputs": [
        {
          "output_type": "stream",
          "text": [
            "[7, 9, '2nd']\n"
          ],
          "name": "stdout"
        }
      ]
    },
    {
      "cell_type": "code",
      "metadata": {
        "colab": {
          "base_uri": "https://localhost:8080/"
        },
        "id": "k5rLPZ-l3A7b",
        "outputId": "5263aac6-0498-464e-9a2d-2f62fd611d52"
      },
      "source": [
        "w = [7,9]\n",
        "w.append(['2nd'])\n",
        "print(w)"
      ],
      "execution_count": null,
      "outputs": [
        {
          "output_type": "stream",
          "text": [
            "[7, 9, ['2nd']]\n"
          ],
          "name": "stdout"
        }
      ]
    },
    {
      "cell_type": "code",
      "metadata": {
        "colab": {
          "base_uri": "https://localhost:8080/"
        },
        "id": "01p8vUyH3WfF",
        "outputId": "250c11b0-a1c3-4d16-b5e9-3273fe195a46"
      },
      "source": [
        "w = [7,9]\n",
        "w.append('Hi')\n",
        "print(w)"
      ],
      "execution_count": null,
      "outputs": [
        {
          "output_type": "stream",
          "text": [
            "[7, 9, 'Hi']\n"
          ],
          "name": "stdout"
        }
      ]
    },
    {
      "cell_type": "code",
      "metadata": {
        "colab": {
          "base_uri": "https://localhost:8080/"
        },
        "id": "Pc2U1Ltp3WEu",
        "outputId": "42425d76-eaf8-493e-b036-47cbb29e0053"
      },
      "source": [
        "w = []\n",
        "w.extend('Hi')\n",
        "print(w)"
      ],
      "execution_count": null,
      "outputs": [
        {
          "output_type": "stream",
          "text": [
            "['H', 'i']\n"
          ],
          "name": "stdout"
        }
      ]
    },
    {
      "cell_type": "code",
      "metadata": {
        "colab": {
          "base_uri": "https://localhost:8080/"
        },
        "id": "r7R1Lnb75sAT",
        "outputId": "7f415a22-8a16-45ba-e445-427f3c61724e"
      },
      "source": [
        "names = ['usa','utta','uma','eunice','unix']\n",
        "for name in names:\n",
        "  print(\"Hi\",name)"
      ],
      "execution_count": null,
      "outputs": [
        {
          "output_type": "stream",
          "text": [
            "Hi usa\n",
            "Hi utta\n",
            "Hi uma\n",
            "Hi eunice\n",
            "Hi unix\n"
          ],
          "name": "stdout"
        }
      ]
    },
    {
      "cell_type": "code",
      "metadata": {
        "colab": {
          "base_uri": "https://localhost:8080/"
        },
        "id": "2DUhWS-w6eCV",
        "outputId": "4d2e77b8-4b58-4b64-c26c-437023654141"
      },
      "source": [
        "names = ['usa','utta','uma','eunice','unix']\n",
        "count = 0\n",
        "for name in names:\n",
        "  count = count + 1\n",
        "  print(count,name)"
      ],
      "execution_count": null,
      "outputs": [
        {
          "output_type": "stream",
          "text": [
            "1 usa\n",
            "2 utta\n",
            "3 uma\n",
            "4 eunice\n",
            "5 unix\n"
          ],
          "name": "stdout"
        }
      ]
    },
    {
      "cell_type": "code",
      "metadata": {
        "colab": {
          "base_uri": "https://localhost:8080/"
        },
        "id": "lkwqsF8lT5UE",
        "outputId": "dede81f5-a114-4538-f301-6751a9305317"
      },
      "source": [
        "x = 9.96\n",
        "format(x,'.1f')\n",
        "print(x)"
      ],
      "execution_count": null,
      "outputs": [
        {
          "output_type": "stream",
          "text": [
            "9.96\n"
          ],
          "name": "stdout"
        }
      ]
    },
    {
      "cell_type": "code",
      "metadata": {
        "colab": {
          "base_uri": "https://localhost:8080/"
        },
        "id": "pecJsNNAV0rn",
        "outputId": "716601ce-1bb7-4382-dcdd-8ad61bcde01c"
      },
      "source": [
        "n = int(input(\"Enter a positive number n: \"))\n",
        "if n < 0:\n",
        "  print(0)\n",
        "else:\n",
        "  for i in range(1,13):\n",
        "    if ((n+i)%13 == 0):\n",
        "      ans = n+i\n",
        "      print(ans)\n",
        "      break\n",
        "  print(\"Done\")"
      ],
      "execution_count": null,
      "outputs": [
        {
          "output_type": "stream",
          "text": [
            "Enter a positive number n: 35\n",
            "39\n",
            "Done\n"
          ],
          "name": "stdout"
        }
      ]
    },
    {
      "cell_type": "code",
      "metadata": {
        "id": "r8z-4lDXAtAe",
        "colab": {
          "base_uri": "https://localhost:8080/",
          "height": 35
        },
        "outputId": "6d4cdf19-513f-49ae-c9d0-795d0899e7d8"
      },
      "source": [
        "def string_length(str1):\n",
        "  count = 0\n",
        "  for char in str1:\n",
        "    count += 1\n",
        "  return count\n",
        "print(string_length('data structures'))"
      ],
      "execution_count": null,
      "outputs": [
        {
          "output_type": "stream",
          "text": [
            "15\n"
          ],
          "name": "stdout"
        }
      ]
    },
    {
      "cell_type": "code",
      "metadata": {
        "id": "WlhKEoxtCUww",
        "colab": {
          "base_uri": "https://localhost:8080/",
          "height": 35
        },
        "outputId": "cce20566-7be3-43a5-ae6a-fcafbb794f98"
      },
      "source": [
        "def sum_list(items):\n",
        "  sum_numbers = 0\n",
        "  for x in items:\n",
        "    sum_numbers += x\n",
        "  return sum_numbers\n",
        "print(sum_list([1,-2,9]))"
      ],
      "execution_count": null,
      "outputs": [
        {
          "output_type": "stream",
          "text": [
            "8\n"
          ],
          "name": "stdout"
        }
      ]
    },
    {
      "cell_type": "code",
      "metadata": {
        "id": "kS1d7giQa76K",
        "colab": {
          "base_uri": "https://localhost:8080/",
          "height": 34
        },
        "outputId": "fe2119b3-4b09-4a91-c5fd-4ee2bd797bb7"
      },
      "source": [
        "x=4\n",
        "y=2.2\n",
        "z = x+y\n",
        "print(z)"
      ],
      "execution_count": null,
      "outputs": [
        {
          "output_type": "stream",
          "text": [
            "6.2\n"
          ],
          "name": "stdout"
        }
      ]
    },
    {
      "cell_type": "markdown",
      "metadata": {
        "id": "6BpXRHnedHjM"
      },
      "source": [
        "# New Section\n",
        "Sample Heading"
      ]
    },
    {
      "cell_type": "code",
      "metadata": {
        "id": "LVLQ9WTPdT2F",
        "colab": {
          "base_uri": "https://localhost:8080/",
          "height": 68
        },
        "outputId": "fd9ef76f-8e1d-4801-b20d-4c6491705296"
      },
      "source": [
        "print(x*y)\n",
        "print(x/y)\n",
        "print(x-y)"
      ],
      "execution_count": null,
      "outputs": [
        {
          "output_type": "stream",
          "text": [
            "8.8\n",
            "1.8181818181818181\n",
            "1.7999999999999998\n"
          ],
          "name": "stdout"
        }
      ]
    },
    {
      "cell_type": "markdown",
      "metadata": {
        "id": "8_FBr7bNe9km"
      },
      "source": [
        "Strings\n"
      ]
    },
    {
      "cell_type": "code",
      "metadata": {
        "id": "S4y3aRyOfAMM",
        "colab": {
          "base_uri": "https://localhost:8080/",
          "height": 51
        },
        "outputId": "bfa27343-cf18-4855-c47d-fc43bffe821f"
      },
      "source": [
        "str1 = \"book\"\n",
        "str2 = 'pen'\n",
        "print(str1)\n",
        "print(str2)"
      ],
      "execution_count": null,
      "outputs": [
        {
          "output_type": "stream",
          "text": [
            "book\n",
            "pen\n"
          ],
          "name": "stdout"
        }
      ]
    },
    {
      "cell_type": "code",
      "metadata": {
        "id": "1iNc4vxTfRP6",
        "colab": {
          "base_uri": "https://localhost:8080/",
          "height": 34
        },
        "outputId": "6d0f3594-e6f5-4a4a-b1ab-ed9a8c815723"
      },
      "source": [
        "len(str1)"
      ],
      "execution_count": null,
      "outputs": [
        {
          "output_type": "execute_result",
          "data": {
            "text/plain": [
              "4"
            ]
          },
          "metadata": {
            "tags": []
          },
          "execution_count": 4
        }
      ]
    },
    {
      "cell_type": "code",
      "metadata": {
        "id": "BJXhhRgAfigX",
        "colab": {
          "base_uri": "https://localhost:8080/",
          "height": 35
        },
        "outputId": "3d790889-2357-4b88-e15c-baebcd56564a"
      },
      "source": [
        "str1[3]"
      ],
      "execution_count": null,
      "outputs": [
        {
          "output_type": "execute_result",
          "data": {
            "application/vnd.google.colaboratory.intrinsic+json": {
              "type": "string"
            },
            "text/plain": [
              "'k'"
            ]
          },
          "metadata": {
            "tags": []
          },
          "execution_count": 8
        }
      ]
    },
    {
      "cell_type": "code",
      "metadata": {
        "id": "9_l81FNofz6q",
        "colab": {
          "base_uri": "https://localhost:8080/",
          "height": 35
        },
        "outputId": "1ee70351-33c5-4f09-ea08-c408a4b13089"
      },
      "source": [
        "str1+' ' 'and'+' '+str2"
      ],
      "execution_count": null,
      "outputs": [
        {
          "output_type": "execute_result",
          "data": {
            "application/vnd.google.colaboratory.intrinsic+json": {
              "type": "string"
            },
            "text/plain": [
              "'book and pen'"
            ]
          },
          "metadata": {
            "tags": []
          },
          "execution_count": 11
        }
      ]
    },
    {
      "cell_type": "code",
      "metadata": {
        "id": "fVtr3L8agILa",
        "colab": {
          "base_uri": "https://localhost:8080/",
          "height": 35
        },
        "outputId": "6f78df8e-46ae-49e9-ebd8-40e63c0a6828"
      },
      "source": [
        "str1 * 3"
      ],
      "execution_count": null,
      "outputs": [
        {
          "output_type": "execute_result",
          "data": {
            "application/vnd.google.colaboratory.intrinsic+json": {
              "type": "string"
            },
            "text/plain": [
              "'bookbookbook'"
            ]
          },
          "metadata": {
            "tags": []
          },
          "execution_count": 13
        }
      ]
    },
    {
      "cell_type": "code",
      "metadata": {
        "id": "_jbeUTHggcGu",
        "colab": {
          "base_uri": "https://localhost:8080/",
          "height": 34
        },
        "outputId": "b6b77fad-b230-419d-afc4-4c0b3a9fbf5a"
      },
      "source": [
        "x='4'\n",
        "y = '2'\n",
        "z = x + y\n",
        "print(z)\n"
      ],
      "execution_count": null,
      "outputs": [
        {
          "output_type": "stream",
          "text": [
            "42\n"
          ],
          "name": "stdout"
        }
      ]
    },
    {
      "cell_type": "code",
      "metadata": {
        "id": "fmeNNRbDg4Ix",
        "colab": {
          "base_uri": "https://localhost:8080/",
          "height": 34
        },
        "outputId": "4f2c3d27-e030-4fb7-d088-d474ab979c09"
      },
      "source": [
        "str3 =\"book and pen\"\n",
        "str4 = \"pen\"\n",
        "str3.find(str4)"
      ],
      "execution_count": null,
      "outputs": [
        {
          "output_type": "execute_result",
          "data": {
            "text/plain": [
              "9"
            ]
          },
          "metadata": {
            "tags": []
          },
          "execution_count": 18
        }
      ]
    },
    {
      "cell_type": "markdown",
      "metadata": {
        "id": "mnPJxTBKhgJ1"
      },
      "source": [
        "Boolean"
      ]
    },
    {
      "cell_type": "code",
      "metadata": {
        "id": "8TH1UrzqhmPe",
        "colab": {
          "base_uri": "https://localhost:8080/",
          "height": 34
        },
        "outputId": "0e5734d7-65b3-4923-9f6c-f665c5af81e3"
      },
      "source": [
        "x = 4\n",
        "y = 2\n",
        "x==y"
      ],
      "execution_count": null,
      "outputs": [
        {
          "output_type": "execute_result",
          "data": {
            "text/plain": [
              "False"
            ]
          },
          "metadata": {
            "tags": []
          },
          "execution_count": 19
        }
      ]
    },
    {
      "cell_type": "code",
      "metadata": {
        "id": "2aatdGBWoekf",
        "colab": {
          "base_uri": "https://localhost:8080/",
          "height": 34
        },
        "outputId": "c21aae6f-f3a5-4ed1-ad96-2ec56683a327"
      },
      "source": [
        "x=\"name\"\n",
        "type(x)"
      ],
      "execution_count": null,
      "outputs": [
        {
          "output_type": "execute_result",
          "data": {
            "text/plain": [
              "str"
            ]
          },
          "metadata": {
            "tags": []
          },
          "execution_count": 21
        }
      ]
    },
    {
      "cell_type": "markdown",
      "metadata": {
        "id": "suKBaVQlozmw"
      },
      "source": [
        "Data Type Conversion - Typecasting"
      ]
    },
    {
      "cell_type": "code",
      "metadata": {
        "id": "jpOgMKZGo2pM",
        "colab": {
          "base_uri": "https://localhost:8080/",
          "height": 51
        },
        "outputId": "8ddfab4f-ba6b-4a70-c62c-b6ba573d96a9"
      },
      "source": [
        "#Implicit typecasting --> python will automatically do it for us\n",
        "x=4.0\n",
        "y=2\n",
        "z=x/y\n",
        "#in python it ospossible to divide a float by an int\n",
        "print(z)\n",
        "type(z)"
      ],
      "execution_count": null,
      "outputs": [
        {
          "output_type": "stream",
          "text": [
            "2.0\n"
          ],
          "name": "stdout"
        },
        {
          "output_type": "execute_result",
          "data": {
            "text/plain": [
              "float"
            ]
          },
          "metadata": {
            "tags": []
          },
          "execution_count": 22
        }
      ]
    },
    {
      "cell_type": "code",
      "metadata": {
        "id": "lJWO5GM1pw49",
        "colab": {
          "base_uri": "https://localhost:8080/",
          "height": 34
        },
        "outputId": "4abab28c-6334-4bd5-f075-d203917c73e2"
      },
      "source": [
        "#Explicit typecasting -->user defined data typecasting\n",
        "x=2\n",
        "y=\"the godfather:Part\"\n",
        "fav_mov = y+str(x)\n",
        "print(fav_mov)"
      ],
      "execution_count": null,
      "outputs": [
        {
          "output_type": "stream",
          "text": [
            "the godfather:Part2\n"
          ],
          "name": "stdout"
        }
      ]
    },
    {
      "cell_type": "markdown",
      "metadata": {
        "id": "CYnORvP2qNYB"
      },
      "source": [
        "Dictionary"
      ]
    },
    {
      "cell_type": "code",
      "metadata": {
        "id": "H3IJzsj7qP_f",
        "colab": {
          "base_uri": "https://localhost:8080/",
          "height": 34
        },
        "outputId": "24202495-e0aa-4292-ff61-8f785de7058f"
      },
      "source": [
        "x_dict = {\"aby\":1,\"hari\":2,\"priya\":3}\n",
        "print(x_dict)"
      ],
      "execution_count": null,
      "outputs": [
        {
          "output_type": "stream",
          "text": [
            "{'aby': 1, 'hari': 2, 'priya': 3}\n"
          ],
          "name": "stdout"
        }
      ]
    },
    {
      "cell_type": "code",
      "metadata": {
        "id": "07CE-LDwqtdf",
        "colab": {
          "base_uri": "https://localhost:8080/",
          "height": 34
        },
        "outputId": "b6956ce5-7dac-43aa-b1d1-513953aba41d"
      },
      "source": [
        "del (x_dict[\"aby\"])\n",
        "print(x_dict)"
      ],
      "execution_count": null,
      "outputs": [
        {
          "output_type": "stream",
          "text": [
            "{'hari': 2, 'priya': 3}\n"
          ],
          "name": "stdout"
        }
      ]
    },
    {
      "cell_type": "code",
      "metadata": {
        "id": "rUe2jtPerL_j",
        "colab": {
          "base_uri": "https://localhost:8080/",
          "height": 34
        },
        "outputId": "8e48ae39-fb09-4c85-e091-0a3c9c8cac93"
      },
      "source": [
        "x_dict[\"hari\"]"
      ],
      "execution_count": null,
      "outputs": [
        {
          "output_type": "execute_result",
          "data": {
            "text/plain": [
              "2"
            ]
          },
          "metadata": {
            "tags": []
          },
          "execution_count": 32
        }
      ]
    },
    {
      "cell_type": "markdown",
      "metadata": {
        "id": "IHlHysoxrUFC"
      },
      "source": [
        "Tuples --> tuples are immutable , cannot edit unlike dict"
      ]
    },
    {
      "cell_type": "code",
      "metadata": {
        "id": "-1DgFYQ7rcHb",
        "colab": {
          "base_uri": "https://localhost:8080/",
          "height": 51
        },
        "outputId": "a1fc60d7-f2d1-4d63-cfef-bbd255251180"
      },
      "source": [
        "x_tuple = 1,2,3,4,5\n",
        "y_tuple = ('a','b','c','e')\n",
        "print(x_tuple)\n",
        "print(y_tuple)"
      ],
      "execution_count": null,
      "outputs": [
        {
          "output_type": "stream",
          "text": [
            "(1, 2, 3, 4, 5)\n",
            "('a', 'b', 'c', 'e')\n"
          ],
          "name": "stdout"
        }
      ]
    },
    {
      "cell_type": "code",
      "metadata": {
        "id": "bfc0AAb0tCEd",
        "colab": {
          "base_uri": "https://localhost:8080/",
          "height": 35
        },
        "outputId": "c90c0803-ec2d-4990-db86-2f7832e54706"
      },
      "source": [
        "y_tuple[1]"
      ],
      "execution_count": null,
      "outputs": [
        {
          "output_type": "execute_result",
          "data": {
            "application/vnd.google.colaboratory.intrinsic+json": {
              "type": "string"
            },
            "text/plain": [
              "'b'"
            ]
          },
          "metadata": {
            "tags": []
          },
          "execution_count": 37
        }
      ]
    },
    {
      "cell_type": "markdown",
      "metadata": {
        "id": "7P8PmSe5tx6U"
      },
      "source": [
        "Linked List"
      ]
    },
    {
      "cell_type": "code",
      "metadata": {
        "id": "f6SUkENvtZjp",
        "colab": {
          "base_uri": "https://localhost:8080/",
          "height": 68
        },
        "outputId": "45e5ee23-c4ea-4767-e241-1a122cb0e075"
      },
      "source": [
        "class Node:\n",
        "  def __init__(self,data):\n",
        "    self.data = data\n",
        "    self.next = None\n",
        "\n",
        "class Linkedlist:\n",
        "\n",
        "  def __init__(self):\n",
        "    self.head = None\n",
        "\n",
        "  def printList(self):\n",
        "      temp = self.head\n",
        "      while (temp):\n",
        "        print(temp.data)\n",
        "        temp = temp.next\n",
        "\n",
        "if __name__ == \"__main__\":\n",
        "  llist = Linkedlist()\n",
        "\n",
        "  llist.head = Node(100)\n",
        "  second = Node(200)\n",
        "  third = Node(30)\n",
        "\n",
        "  llist.head.next = second;\n",
        "  second.next = third;\n",
        "  llist.printList()\n"
      ],
      "execution_count": null,
      "outputs": [
        {
          "output_type": "stream",
          "text": [
            "100\n",
            "200\n",
            "30\n"
          ],
          "name": "stdout"
        }
      ]
    },
    {
      "cell_type": "markdown",
      "metadata": {
        "id": "nsfi0YvuHfN5"
      },
      "source": [
        " 1.  Create an empty class Employee\r\n",
        "\r\n",
        "2. Modify the Employee class to include a .set_name() method that takes a new_name argument, and assigns new_name to the .name attribute of the class.\r\n",
        "\r\n",
        "# Include a set_name method\r\n",
        "class Employee:\r\n",
        "  \r\n",
        "  def set_name(self, new_name):\r\n",
        "    self.name = new_name\r\n",
        "    \r\n",
        "3.Use the set_name() method on emp to set the name to 'Raani James'."
      ]
    },
    {
      "cell_type": "code",
      "metadata": {
        "colab": {
          "base_uri": "https://localhost:8080/"
        },
        "id": "cjXpKRcuFZP-",
        "outputId": "835fc803-8479-47f0-ae94-4b9ab8c50957"
      },
      "source": [
        "class Employee:\r\n",
        "  def set_name(self, new_name): \r\n",
        "    self.name = new_name\r\n",
        "emp = Employee()\r\n",
        "emp.set_name(\"Raani James\")\r\n",
        "print(emp.name)\r\n",
        "\r\n"
      ],
      "execution_count": null,
      "outputs": [
        {
          "output_type": "stream",
          "text": [
            "Raani James\n"
          ],
          "name": "stdout"
        }
      ]
    },
    {
      "cell_type": "markdown",
      "metadata": {
        "id": "FDEHSg-_IjA0"
      },
      "source": [
        "4. Follow the pattern to add another method - set_salary() - that will set the salary attribute of the class to the parameter new_salary passed to method.\r\n",
        "Set the salary of emp to 50000.\r\n",
        "Try printing emp.salary before and after calling set_salary()."
      ]
    },
    {
      "cell_type": "code",
      "metadata": {
        "colab": {
          "base_uri": "https://localhost:8080/"
        },
        "id": "UmWmfVcmIkZj",
        "outputId": "20bb3057-a342-4910-a421-15fbd4b63a88"
      },
      "source": [
        "class Employee:\r\n",
        "  def set_name(self, new_name): \r\n",
        "    self.name = new_name\r\n",
        "  def set_salary(self, new_salary): \r\n",
        "    self.salary = new_salary\r\n",
        "emp = Employee()\r\n",
        "emp.set_name(\"Raani James\")\r\n",
        "emp.set_salary(50000)\r\n",
        "print(emp.name)\r\n",
        "print(emp.salary)"
      ],
      "execution_count": null,
      "outputs": [
        {
          "output_type": "stream",
          "text": [
            "Raani James\n",
            "50000\n"
          ],
          "name": "stdout"
        }
      ]
    },
    {
      "cell_type": "markdown",
      "metadata": {
        "id": "stq1fB0-JI4G"
      },
      "source": [
        "5.use assignment (equality sign) to increase the salary attribute of emp by 1500, and print it again."
      ]
    },
    {
      "cell_type": "code",
      "metadata": {
        "colab": {
          "base_uri": "https://localhost:8080/"
        },
        "id": "hdDkMF2BJSvR",
        "outputId": "5f72aa07-ef9c-4d9d-ef50-bd65fa0a1421"
      },
      "source": [
        "emp.salary = emp.salary + 1500\r\n",
        "print(emp.salary)"
      ],
      "execution_count": null,
      "outputs": [
        {
          "output_type": "stream",
          "text": [
            "51500\n"
          ],
          "name": "stdout"
        }
      ]
    },
    {
      "cell_type": "markdown",
      "metadata": {
        "id": "EYm9C45fJ9Y2"
      },
      "source": [
        "6.Add a method give_raise() to Employee that increases the salary by the amount passed to give_raise() as a parameter."
      ]
    },
    {
      "cell_type": "code",
      "metadata": {
        "colab": {
          "base_uri": "https://localhost:8080/"
        },
        "id": "-ZuCTyInJ_w0",
        "outputId": "92983586-a67f-4693-b34e-11f7f62d9741"
      },
      "source": [
        "class Employee:\r\n",
        "  \"\"\"\r\n",
        "  --> Created Employee class\r\n",
        "  --> Added method set_name to set employee name\r\n",
        "  --> Added method set_salary to set salary\r\n",
        "  --> Added method give_raise to raise the salary\r\n",
        "\r\n",
        "  \"\"\"\r\n",
        "  def set_name(self, new_name): \r\n",
        "    self.name = new_name\r\n",
        "  def set_salary(self, new_salary): \r\n",
        "    self.salary = new_salary\r\n",
        "  def give_raise(self, amount):\r\n",
        "    self.salary = self.salary + amount\r\n",
        "\r\n",
        "emp = Employee()\r\n",
        "emp.set_name(\"Raani James\")\r\n",
        "print(emp.name)\r\n",
        "emp.set_salary(50000)\r\n",
        "print(\"Before Raise: \",emp.salary)\r\n",
        "emp.give_raise(1500)\r\n",
        "print(\"After Raise: \",emp.salary)"
      ],
      "execution_count": null,
      "outputs": [
        {
          "output_type": "stream",
          "text": [
            "Raani James\n",
            "Before Raise:  50000\n",
            "After Raise:  51500\n"
          ],
          "name": "stdout"
        }
      ]
    },
    {
      "cell_type": "markdown",
      "metadata": {
        "id": "rQ5tmOn1Mswp"
      },
      "source": [
        "7. Add a method monthly_salary() that returns the value of the .salary attribute divided by 12. Call .monthly_salary() on emp, assign it to mon_sal, and print."
      ]
    },
    {
      "cell_type": "code",
      "metadata": {
        "colab": {
          "base_uri": "https://localhost:8080/"
        },
        "id": "ZwwYGmkxMyL8",
        "outputId": "2ce1ac7c-44cd-4a2c-c1f7-7d4df560c74c"
      },
      "source": [
        "class Employee:\r\n",
        "  \"\"\"\r\n",
        "  --> Created Employee class\r\n",
        "  --> Added method set_name to set employee name\r\n",
        "  --> Added method set_salary to set salary\r\n",
        "  --> Added method give_raise to raise the salary\r\n",
        "\r\n",
        "  \"\"\"\r\n",
        "  def set_name(self, new_name): \r\n",
        "    self.name = new_name\r\n",
        "  def set_salary(self, new_salary): \r\n",
        "    self.salary = new_salary\r\n",
        "  def give_raise(self, amount):\r\n",
        "    self.salary = self.salary + amount\r\n",
        "  def monthly_salary(self):\r\n",
        "    return self.salary/12\r\n",
        "\r\n",
        "emp = Employee()\r\n",
        "emp.set_name(\"Raani James\")\r\n",
        "print(emp.name)\r\n",
        "emp.set_salary(50000)\r\n",
        "print(\"Before Raise: \",emp.salary)\r\n",
        "emp.give_raise(1500)\r\n",
        "print(\"After Raise: \",emp.salary)\r\n",
        "mon_sal = emp.monthly_salary()\r\n",
        "print(mon_sal)"
      ],
      "execution_count": null,
      "outputs": [
        {
          "output_type": "stream",
          "text": [
            "Raani James\n",
            "Before Raise:  50000\n",
            "After Raise:  51500\n",
            "4291.666666666667\n"
          ],
          "name": "stdout"
        }
      ]
    },
    {
      "cell_type": "markdown",
      "metadata": {
        "id": "k_O2Pv1rNuWG"
      },
      "source": [
        "8. write a program to calculate the area of a rectangle by assigning the value to the attributes of a rectangle, i.e length and breadth"
      ]
    },
    {
      "cell_type": "code",
      "metadata": {
        "id": "38tM0oF7NxhF"
      },
      "source": [
        "class Rectangle:\r\n",
        "  \"\"\"\r\n",
        "  Stores dimension of rectangle and calculate area\r\n",
        "\r\n",
        "  \"\"\"\r\n",
        "\r\n",
        "  def area(self, len, brdt):\r\n",
        "    self.len = len\r\n",
        "    self.brrdt = brdt\r\n",
        "    return len*brdt\r\n"
      ],
      "execution_count": null,
      "outputs": []
    },
    {
      "cell_type": "code",
      "metadata": {
        "id": "iJMlaVitOHiv"
      },
      "source": [
        "rect = Rectangle()\r\n"
      ],
      "execution_count": null,
      "outputs": []
    },
    {
      "cell_type": "code",
      "metadata": {
        "colab": {
          "base_uri": "https://localhost:8080/"
        },
        "id": "qbWfGih6OKRz",
        "outputId": "30f48eab-607f-4318-edc7-aad98f374d84"
      },
      "source": [
        "rect.area(10,20)"
      ],
      "execution_count": null,
      "outputs": [
        {
          "output_type": "execute_result",
          "data": {
            "text/plain": [
              "200"
            ]
          },
          "metadata": {
            "tags": []
          },
          "execution_count": 8
        }
      ]
    },
    {
      "cell_type": "markdown",
      "metadata": {
        "id": "7aIwBr4cOplY"
      },
      "source": [
        "9.write a program to create a class named Circle. Pass the parameter radius to the method named Calc_Area() and calculate the area of the circle."
      ]
    },
    {
      "cell_type": "code",
      "metadata": {
        "id": "neW8gGTwOrsy"
      },
      "source": [
        "class Circle:\r\n",
        "  \"\"\"\r\n",
        "  Stores radius of circle and calculate area\r\n",
        "\r\n",
        "  \"\"\"\r\n",
        "\r\n",
        "  def area(self, rad):\r\n",
        "    self.rad = rad\r\n",
        "    return 3.14*(self.rad**2)"
      ],
      "execution_count": null,
      "outputs": []
    },
    {
      "cell_type": "code",
      "metadata": {
        "colab": {
          "base_uri": "https://localhost:8080/"
        },
        "id": "t7hHfqRePCc0",
        "outputId": "71d640ba-de2d-483c-fe59-9d78e4bccbc2"
      },
      "source": [
        "circle = Circle()\r\n",
        "circle.area(5)"
      ],
      "execution_count": null,
      "outputs": [
        {
          "output_type": "execute_result",
          "data": {
            "text/plain": [
              "78.5"
            ]
          },
          "metadata": {
            "tags": []
          },
          "execution_count": 10
        }
      ]
    },
    {
      "cell_type": "markdown",
      "metadata": {
        "id": "mvpMDQnsR6Vp"
      },
      "source": [
        "10. Define the class Employee with a constructor __init__() that:\r\n",
        "\r\n",
        "accepts two arguments, name and salary (with default value0),\r\n",
        "creates two attributes, also called name and salary,\r\n",
        "sets their values to the corresponding arguments.\r\n"
      ]
    },
    {
      "cell_type": "code",
      "metadata": {
        "colab": {
          "base_uri": "https://localhost:8080/"
        },
        "id": "poNfkH8cR8Bp",
        "outputId": "bfa62813-7ff9-4d24-f1bd-2efe9e5e296b"
      },
      "source": [
        "class Employee:\r\n",
        "  \"\"\"\r\n",
        "  --> Created Employee class\r\n",
        "  --> Added method set_name to set employee name\r\n",
        "  --> Added method set_salary to set salary\r\n",
        "  --> Added method give_raise to raise the salary\r\n",
        "  --> Added method monthly_salary\r\n",
        "  --> Added constructor\r\n",
        "\r\n",
        "  \"\"\"\r\n",
        "  def __init__(self,name,salary,amount):\r\n",
        "    self.name = name\r\n",
        "    self.salary = salary\r\n",
        "    self.salary = self.salary + amount\r\n",
        "  def set_name(self, new_name): \r\n",
        "    self.name = new_name\r\n",
        "  def set_salary(self, new_salary): \r\n",
        "    self.salary = new_salary\r\n",
        "  def give_raise(self, amount):\r\n",
        "    self.salary = self.salary + amount\r\n",
        "  def monthly_salary(self):\r\n",
        "    return self.salary/12\r\n",
        "\r\n",
        "emp = Employee(\"name\",1000,100)\r\n",
        "emp.set_name(\"Raani James\")\r\n",
        "print(emp.name)\r\n",
        "emp.set_salary(50000)\r\n",
        "print(\"Before Raise: \",emp.salary)\r\n",
        "emp.give_raise(1500)\r\n",
        "print(\"After Raise: \",emp.salary)\r\n",
        "mon_sal = emp.monthly_salary()\r\n",
        "print(mon_sal)"
      ],
      "execution_count": null,
      "outputs": [
        {
          "output_type": "stream",
          "text": [
            "Raani James\n",
            "Before Raise:  50000\n",
            "After Raise:  51500\n",
            "4291.666666666667\n"
          ],
          "name": "stdout"
        }
      ]
    },
    {
      "cell_type": "markdown",
      "metadata": {
        "id": "OhKbRMd5ZZdz"
      },
      "source": [
        "modify __init__. Preprocrssing if salary is negative, print \"invalid salry\" otherwise it should be actualsalary"
      ]
    },
    {
      "cell_type": "code",
      "metadata": {
        "id": "RoOnAN0IZYv6"
      },
      "source": [
        "class Employee:\r\n",
        "  def __init__(self,name,salary = 0):\r\n",
        "    self.name = name\r\n",
        "    if salary >= 0:\r\n",
        "      self.salary = salary\r\n",
        "    else:\r\n",
        "      self.salary = 0\r\n",
        "      print(\"Invalid salary\")\r\n",
        "\r\n",
        "  def give_raise(self, amount):\r\n",
        "    self.salary = self.salary + amount\r\n",
        "\r\n",
        "  def monthly_salary(self):\r\n",
        "    return self.salary/12\r\n",
        "    "
      ],
      "execution_count": null,
      "outputs": []
    },
    {
      "cell_type": "code",
      "metadata": {
        "colab": {
          "base_uri": "https://localhost:8080/"
        },
        "id": "ltO_ocS-aDwM",
        "outputId": "cad173a3-597d-40c3-fcbf-f32f3611e0aa"
      },
      "source": [
        "emp = Employee(\"Parvathy\",50000)\r\n",
        "print(emp.salary)"
      ],
      "execution_count": null,
      "outputs": [
        {
          "output_type": "stream",
          "text": [
            "50000\n"
          ],
          "name": "stdout"
        }
      ]
    },
    {
      "cell_type": "code",
      "metadata": {
        "colab": {
          "base_uri": "https://localhost:8080/"
        },
        "id": "5bywuYr5aaa0",
        "outputId": "99f2658d-86c5-4bd3-8395-45515a35c05f"
      },
      "source": [
        "emp = Employee(\"Parvathy\",-50000)\r\n",
        "print(emp.salary)"
      ],
      "execution_count": null,
      "outputs": [
        {
          "output_type": "stream",
          "text": [
            "Invalid salary\n",
            "0\n"
          ],
          "name": "stdout"
        }
      ]
    },
    {
      "cell_type": "markdown",
      "metadata": {
        "id": "qss--mShbg8C"
      },
      "source": [
        "11.\r\n",
        "\r\n",
        "Two attributes, x and y - the coordinates of the point on the plane;\r\n",
        "A constructor that accepts two arguments, x and y, that initialize the corresponding attributes. These arguments should have default value of 0.0;\r\n",
        "A method distance_to_origin() that returns the distance from the point to the origin. The formula for that is .\r\n",
        "A method reflect(), that reflects the point with respect to the x- or y-axis:\r\n",
        "accepts one argument axis,\r\n",
        "if axis=\"x\" , it sets the y (not a typo!) attribute to the negative value of the y attribute,\r\n",
        "if axis=\"y\", it sets the x attribute to the negative value of the x attribute,\r\n",
        "for any other value of axis, prints an error message. Reflection of a point with respect to y and x axes\r\n",
        "Note: You can choose to use sqrt() function from either the numpy or the math package, but whichever package you choose, don't forget to import it before starting the class definition!"
      ]
    },
    {
      "cell_type": "code",
      "metadata": {
        "id": "tO_YbmkZbi--"
      },
      "source": [
        "import math\r\n",
        "\"\"\"\r\n",
        "Class Point is created\r\n",
        "\"\"\"\r\n",
        "\r\n",
        "class Point:\r\n",
        "  \"\"\"\r\n",
        "  Constructor\r\n",
        "  \"\"\"\r\n",
        "  def __init__(self,x = 0,y = 0):\r\n",
        "    self.x = x\r\n",
        "    self.y = y\r\n",
        "  \"\"\"\r\n",
        "  Calculates the point's distance to origin and returns the distance\r\n",
        "  \"\"\"\r\n",
        "  def distance_to_origin(self):\r\n",
        "    dist = math.sqrt((self.x**2) + (self.y**2))\r\n",
        "    return dist\r\n",
        "  \r\n",
        "  \"\"\"\r\n",
        "  Reflects the point with respect to give axis\r\n",
        "  \"\"\"\r\n",
        "  def reflect(self,axis):\r\n",
        "    if axis == 'x':\r\n",
        "      self.y = -(self.y)\r\n",
        "    elif axis == 'y':\r\n",
        "      self.x = - (self.x)\r\n",
        "    else:\r\n",
        "      print(\"Argument axis accepts only x or y\")\r\n",
        "  \r\n",
        "\r\n"
      ],
      "execution_count": null,
      "outputs": []
    },
    {
      "cell_type": "code",
      "metadata": {
        "colab": {
          "base_uri": "https://localhost:8080/"
        },
        "id": "kNuZMTvEdmj9",
        "outputId": "7ccc4fea-0f02-46bf-efe3-e4d51c72e7ad"
      },
      "source": [
        "pt = Point(3,4)\r\n",
        "pt.distance_to_origin()\r\n"
      ],
      "execution_count": null,
      "outputs": [
        {
          "output_type": "execute_result",
          "data": {
            "text/plain": [
              "5.0"
            ]
          },
          "metadata": {
            "tags": []
          },
          "execution_count": 16
        }
      ]
    },
    {
      "cell_type": "code",
      "metadata": {
        "colab": {
          "base_uri": "https://localhost:8080/"
        },
        "id": "5favXZE2d_te",
        "outputId": "e7eff0ca-a182-4751-c762-ac064df5fb86"
      },
      "source": [
        "pt.reflect('y')\r\n",
        "print((pt.x, pt.y))"
      ],
      "execution_count": null,
      "outputs": [
        {
          "output_type": "stream",
          "text": [
            "(-3, 4)\n"
          ],
          "name": "stdout"
        }
      ]
    },
    {
      "cell_type": "code",
      "metadata": {
        "colab": {
          "base_uri": "https://localhost:8080/"
        },
        "id": "-VB53lofeWOc",
        "outputId": "37300548-18ad-4020-be63-b9908ae437cd"
      },
      "source": [
        "pt.y = 4.0\r\n",
        "print(pt.distance_to_origin())"
      ],
      "execution_count": null,
      "outputs": [
        {
          "output_type": "stream",
          "text": [
            "5.0\n"
          ],
          "name": "stdout"
        }
      ]
    },
    {
      "cell_type": "markdown",
      "metadata": {
        "id": "sF0scEdAe60E"
      },
      "source": [
        "Write a class called BankAccount that has the following: \r\n",
        "* A ﬁeld called name that stores the name of the account holder. \r\n",
        "* A ﬁeld called amount that stores the amount of money in the account. \r\n",
        "* A ﬁeld called interest_rate that stores the account’s interest rate (as a percentage). \r\n",
        "* A constructor that just sets the values of the three ﬁelds above. \r\n",
        "* A method called apply_interest() that takes no arguments and applies the interest to the account. It should just modify the amount ﬁeld and not return anything. For instance, if the account has 1000 dollar in it and the interest rate is 3%, then the amount variable should be changed to 1030 dollar (1000 dollar + 3% interest).\r\n",
        "----------------------------------------------------"
      ]
    },
    {
      "cell_type": "code",
      "metadata": {
        "id": "xc14i9rre8Q7"
      },
      "source": [
        "\"\"\"\r\n",
        "--->class BankAccount created\r\n",
        "--->Added constructor\r\n",
        "--->Added method apply_interest\r\n",
        "\r\n",
        "\"\"\"\r\n",
        "class BankAccount:\r\n",
        "  def __init__(self,name = 'name',amount = 0,interest_rate = 0):\r\n",
        "    self.name = name\r\n",
        "    self.amount = amount\r\n",
        "    self.interest_rate = interest_rate\r\n",
        "\r\n",
        "  def apply_interest(self):\r\n",
        "    self.amount = self.amount + (self.interest_rate * (self.amount/100))\r\n",
        "  \r\n"
      ],
      "execution_count": null,
      "outputs": []
    },
    {
      "cell_type": "markdown",
      "metadata": {
        "id": "EpyZ2gnQgS9k"
      },
      "source": [
        "Then test the class, by creating a new BankAccount object for a user named John who has 1000 dollar at 3% interest. Then do the following: \r\n",
        "* Use the apply_interest() method to apply the interest to the account.\r\n",
        "* Print out how much money is now in the account after applying the interest. \r\n",
        "* Change the account’s interest rate to 2%. \r\n",
        "* Use the apply_interest() method to apply the interest to the account again. \r\n",
        "* Print out how much money is now in the account after applying the interest again"
      ]
    },
    {
      "cell_type": "code",
      "metadata": {
        "colab": {
          "base_uri": "https://localhost:8080/"
        },
        "id": "iq0ODZuTgVYh",
        "outputId": "cf8d0b0d-07dd-4690-b245-d32f5f69fc61"
      },
      "source": [
        "acnt = BankAccount('John',1000,3)\r\n",
        "print(acnt.name)\r\n",
        "print(acnt.amount)\r\n",
        "print(acnt.interest_rate)\r\n",
        "acnt.apply_interest()\r\n",
        "print(acnt.amount)\r\n",
        "\r\n",
        "acnt.interest_rate = 2\r\n",
        "acnt.apply_interest()\r\n",
        "print(acnt.amount)\r\n",
        "\r\n",
        "acnt.interest_rate = 2\r\n",
        "acnt.apply_interest()\r\n",
        "print(acnt.amount)"
      ],
      "execution_count": null,
      "outputs": [
        {
          "output_type": "stream",
          "text": [
            "John\n",
            "1000\n",
            "3\n",
            "1030.0\n",
            "1050.6\n",
            "1071.6119999999999\n"
          ],
          "name": "stdout"
        }
      ]
    },
    {
      "cell_type": "markdown",
      "metadata": {
        "id": "LIjqBp3Fk2-n"
      },
      "source": [
        "Write a class called RestaurantCheck. It should have the following:\r\n",
        "    \r\n",
        "    \r\n",
        "Fields called check_number, sales_tax_percent, subtotal, table_number, and server_name representing an identiﬁcation for the check, the bill without tax added, the sales tax percentage, the table number, and the name of the server.\r\n",
        "\r\n",
        "* A constructor that sets the values of all four ﬁelds.\r\n",
        "* A method called calculate_total that takes no arguments (besides self)and returns the total bill including sales tax.\r\n",
        "* A method called print_check that writes to a ﬁle called check###.txt,where### is the check number and writes information about the check to that ﬁle, formatted like below:"
      ]
    },
    {
      "cell_type": "code",
      "metadata": {
        "id": "SxAKsDMCk5Cr"
      },
      "source": [
        "class  RestaurantCheck:\r\n",
        "  def __init__(self,check_number=0,sales_tax_percent=0,subtotal = 0,table_number=0,server_name=0):\r\n",
        "    self.check_number = check_number\r\n",
        "    self.sales_tax_percent = sales_tax_percent\r\n",
        "    self.subtotal = subtotal\r\n",
        "    self.table_number = table_number\r\n",
        "    self.server_name = server_name\r\n",
        "\r\n",
        "  def calculate_total(self):\r\n",
        "    total_amount = self.subtotal*(1 + self.sales_tax_percent/100)\r\n",
        "    return total_amount\r\n",
        "\r\n",
        "  def print_check(self):\r\n",
        "    output_file = open('ckeck' + str(self.check_number) + '.txt',\"w\")\r\n",
        "    print('Check Number:', self.check_number, file=output_file)\r\n",
        "    print('Sales tax percent:', self.sales_tax_percent, file=output_file)\r\n",
        "    print('Subtotal:', self.subtotal, file=output_file)\r\n",
        "    print('Table number:', self.table_number, file=output_file)\r\n",
        "    print('Server name:', self.server_name, file=output_file)\r\n",
        "    print('Total Amount:', self.calculate_total(), file=output_file)\r\n",
        "    output_file.close()\r\n",
        "\r\n",
        "chk = RestaurantCheck(12,6,2000,17,'John')\r\n",
        "chk.print_check()\r\n",
        "    "
      ],
      "execution_count": null,
      "outputs": []
    },
    {
      "cell_type": "markdown",
      "metadata": {
        "id": "OR4W6785sRxs"
      },
      "source": [
        "#Class variable"
      ]
    },
    {
      "cell_type": "markdown",
      "metadata": {
        "id": "BwJgWR5UrWV1"
      },
      "source": [
        "In the Employee class give a global variable min_salary = 30000\r\n",
        "    if the salary is > min_salary you put self.salary=self.salary\r\n",
        "    else . salary assign with min_salary\r\n",
        "    \r\n",
        "    "
      ]
    },
    {
      "cell_type": "code",
      "metadata": {
        "id": "h7Bg4hKOreKc"
      },
      "source": [
        "class Employee:\r\n",
        "  min_salary = 30000\r\n",
        "  def __init__(self,name,salary = 0):\r\n",
        "    self.name = name\r\n",
        "    if salary >= Employee.min_salary:\r\n",
        "      self.salary = salary\r\n",
        "    else:\r\n",
        "      self.salary = Employee.min_salary\r\n",
        "\r\n",
        "  def give_raise(self, amount):\r\n",
        "    self.salary = self.salary + amount\r\n",
        "\r\n",
        "  def monthly_salary(self):\r\n",
        "    return self.salary/12"
      ],
      "execution_count": null,
      "outputs": []
    },
    {
      "cell_type": "code",
      "metadata": {
        "colab": {
          "base_uri": "https://localhost:8080/"
        },
        "id": "vgHGRJGnseFf",
        "outputId": "03de230e-07df-4d20-9980-88a6e654a18a"
      },
      "source": [
        "emp = Employee(\"Parvathy\",-50000)\r\n",
        "print(emp.salary)\r\n"
      ],
      "execution_count": null,
      "outputs": [
        {
          "output_type": "stream",
          "text": [
            "30000\n"
          ],
          "name": "stdout"
        }
      ]
    },
    {
      "cell_type": "markdown",
      "metadata": {
        "id": "f0TzYsHCOHdu"
      },
      "source": [
        "1_ Sum of n natural numbers"
      ]
    },
    {
      "cell_type": "code",
      "metadata": {
        "colab": {
          "base_uri": "https://localhost:8080/"
        },
        "id": "lA0DNwq4NpvH",
        "outputId": "fbe4eed0-b358-409e-954e-eb810d35eb9e"
      },
      "source": [
        "def sum_nat(n):\r\n",
        "  if n == 0:\r\n",
        "    return n\r\n",
        "  else:\r\n",
        "    return n + sum_nat(n-1)\r\n",
        "n = eval(input(\"Enter number: \"))\r\n",
        "sum_nat(n)"
      ],
      "execution_count": null,
      "outputs": [
        {
          "output_type": "stream",
          "text": [
            "Enter number: 5\n"
          ],
          "name": "stdout"
        },
        {
          "output_type": "execute_result",
          "data": {
            "text/plain": [
              "15"
            ]
          },
          "metadata": {
            "tags": []
          },
          "execution_count": 3
        }
      ]
    },
    {
      "cell_type": "code",
      "metadata": {
        "colab": {
          "base_uri": "https://localhost:8080/"
        },
        "id": "ITIwtjX1RVdg",
        "outputId": "6fee2f4c-5875-4d0a-da21-59b231dc1d0a"
      },
      "source": [
        "def factorial(n):\r\n",
        "  if n <= 1:\r\n",
        "    return 1\r\n",
        "  else:\r\n",
        "    return n * factorial(n-1)\r\n",
        "n = eval(input(\"Enter number: \"))\r\n",
        "factorial(n)"
      ],
      "execution_count": null,
      "outputs": [
        {
          "output_type": "stream",
          "text": [
            "Enter number: 5\n"
          ],
          "name": "stdout"
        },
        {
          "output_type": "execute_result",
          "data": {
            "text/plain": [
              "120"
            ]
          },
          "metadata": {
            "tags": []
          },
          "execution_count": 5
        }
      ]
    },
    {
      "cell_type": "code",
      "metadata": {
        "colab": {
          "base_uri": "https://localhost:8080/"
        },
        "id": "mDEtg-tJT07b",
        "outputId": "20a35551-fe73-480c-a23c-6fb097781a36"
      },
      "source": [
        "def evensum(n):\r\n",
        "  if n%2 !=0:\r\n",
        "    n = n-1\r\n",
        "  if n<2:\r\n",
        "     return 0\r\n",
        "  else:\r\n",
        "     return n + evensum(n-2)\r\n",
        "\r\n",
        "n = eval(input(\"Enter number: \"))\r\n",
        "evensum(n)"
      ],
      "execution_count": null,
      "outputs": [
        {
          "output_type": "stream",
          "text": [
            "Enter number: 10\n"
          ],
          "name": "stdout"
        },
        {
          "output_type": "execute_result",
          "data": {
            "text/plain": [
              "30"
            ]
          },
          "metadata": {
            "tags": []
          },
          "execution_count": 11
        }
      ]
    },
    {
      "cell_type": "code",
      "metadata": {
        "id": "XcFlYwMMW-_9"
      },
      "source": [
        "def list_sum(list):\r\n",
        "  "
      ],
      "execution_count": null,
      "outputs": []
    },
    {
      "cell_type": "markdown",
      "metadata": {
        "id": "2BjWlrKoPm3d"
      },
      "source": [
        "Pandas and Numpy"
      ]
    },
    {
      "cell_type": "code",
      "metadata": {
        "colab": {
          "base_uri": "https://localhost:8080/"
        },
        "id": "NvM7cfDpPgIO",
        "outputId": "ad0b4f35-4f9c-4486-8894-a14deb00d4d6"
      },
      "source": [
        "import numpy as np\r\n",
        "import pandas as pd\r\n",
        "data = np.array([[5.8, 2.8], [6.0, 2.2]])\r\n",
        "print(data)\r\n",
        "\r\n",
        "\r\n",
        "dataset = pd.DataFrame({'Column1': data[:, 0], 'Column2': data[:, 1]})\r\n",
        "print(dataset)"
      ],
      "execution_count": null,
      "outputs": [
        {
          "output_type": "stream",
          "text": [
            "[[5.8 2.8]\n",
            " [6.  2.2]]\n",
            "   Column1  Column2\n",
            "0      5.8      2.8\n",
            "1      6.0      2.2\n"
          ],
          "name": "stdout"
        }
      ]
    }
  ]
}